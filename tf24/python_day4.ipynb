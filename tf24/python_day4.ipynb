{
 "cells": [
  {
   "cell_type": "code",
   "execution_count": 1,
   "id": "61d4c320",
   "metadata": {},
   "outputs": [],
   "source": [
    "from collections import Counter, defaultdict\n",
    "cdict=Counter(); ddict=defaultdict(list)"
   ]
  },
  {
   "cell_type": "code",
   "execution_count": 2,
   "id": "a64ae47e",
   "metadata": {},
   "outputs": [
    {
     "name": "stdout",
     "output_type": "stream",
     "text": [
      "Counter({7: 6, 6: 5, 8: 5, 5: 4, 9: 4, 4: 3, 10: 3, 3: 2, 11: 2, 2: 1, 12: 1}) \n",
      " defaultdict(<class 'list'>, {2: [[1, 1]], 3: [[1, 2], [2, 1]], 4: [[1, 3], [2, 2], [3, 1]], 5: [[1, 4], [2, 3], [3, 2], [4, 1]], 6: [[1, 5], [2, 4], [3, 3], [4, 2], [5, 1]], 7: [[1, 6], [2, 5], [3, 4], [4, 3], [5, 2], [6, 1]], 8: [[2, 6], [3, 5], [4, 4], [5, 3], [6, 2]], 9: [[3, 6], [4, 5], [5, 4], [6, 3]], 10: [[4, 6], [5, 5], [6, 4]], 11: [[5, 6], [6, 5]], 12: [[6, 6]]})\n"
     ]
    }
   ],
   "source": [
    "n_faces=6\n",
    "for dice1 in range(1, n_faces+1):\n",
    "    for dice2 in range(1, n_faces+1):\n",
    "        t=[dice1,dice2]\n",
    "        cdict[dice1+dice2]+=1\n",
    "        ddict[dice1+dice2].append(t)\n",
    "print(cdict,\"\\n\",ddict)"
   ]
  },
  {
   "cell_type": "code",
   "execution_count": 3,
   "id": "1cd4d806",
   "metadata": {},
   "outputs": [
    {
     "name": "stdout",
     "output_type": "stream",
     "text": [
      "(5, [[1, 4], [2, 3], [3, 2], [4, 1], [5]])\n",
      "테스트 통과\n"
     ]
    }
   ],
   "source": [
    "def find_dice_probabilities(S,n_faces):\n",
    "    for dice1 in range(1,n_faces+1):\n",
    "        for dice2 in range(1,n_faces+1):\n",
    "            t=[dice1+dice2]\n",
    "            cdict[dice1+dice2]+=1\n",
    "            ddict[dice1+dice2].append(t)\n",
    "        return cdict[S],ddict[S]\n",
    "    \n",
    "def test_find_dice_probabilities():\n",
    "    n_faces=6\n",
    "    S=5\n",
    "    results=find_dice_probabilities(S,n_faces)\n",
    "    print(results)\n",
    "    assert(results[0]==len(results[1]))\n",
    "    print(\"테스트 통과\")\n",
    "    \n",
    "test_find_dice_probabilities()"
   ]
  },
  {
   "cell_type": "code",
   "execution_count": 32,
   "id": "8231e27e",
   "metadata": {},
   "outputs": [
    {
     "data": {
      "text/plain": [
       "'None'"
      ]
     },
     "execution_count": 32,
     "metadata": {},
     "output_type": "execute_result"
    }
   ],
   "source": [
    "array=range(2,101,2)\n",
    "def binary_search(array,target,start,end):\n",
    "    if start>end:\n",
    "        return \"None\"\n",
    "    mid=(start+end)//2\n",
    "    if array[mid]==target:\n",
    "        return mid\n",
    "    elif array[mid]<target:\n",
    "        return binary_search(array,target,mid+1,end)\n",
    "    else:\n",
    "        return binary_search(array,target,start,mid-1)\n",
    "\n",
    "binary_search(array,79,0,51)"
   ]
  },
  {
   "cell_type": "code",
   "execution_count": 26,
   "id": "99b9890e",
   "metadata": {},
   "outputs": [
    {
     "name": "stdout",
     "output_type": "stream",
     "text": [
      "None\n"
     ]
    }
   ],
   "source": [
    "array=range(0,101,2)\n",
    "def binary_search(array,target,start,end):\n",
    "    while True:\n",
    "        mid=(start+end)//2 #/하나만 쓰면 실수형태로 나올수 있기 때문에 \n",
    "        if start>end:      #//두개로 나눠줘야함\n",
    "            print(None)\n",
    "            break\n",
    "        if array[mid]==target:\n",
    "            print(mid)\n",
    "            break\n",
    "        elif array[mid]<target:\n",
    "            start=mid+1\n",
    "        else:\n",
    "            end=mid-1\n",
    "\n",
    "binary_search(array,79,0,51)"
   ]
  },
  {
   "cell_type": "code",
   "execution_count": 40,
   "id": "0a0dae65",
   "metadata": {},
   "outputs": [
    {
     "name": "stdout",
     "output_type": "stream",
     "text": [
      "-1\n",
      "-1\n"
     ]
    }
   ],
   "source": [
    "class Car:\n",
    "    def __init__(self,color):\n",
    "        self.color=color\n",
    "        self.direction=0\n",
    "        self.speed=0\n",
    "    def turn_left(self):\n",
    "        self.direction-=1\n",
    "    def turn_right(self):\n",
    "        self.direction+=1\n",
    "    def accelerate(self):\n",
    "        self.speed+=1\n",
    "    def decelerate(self):\n",
    "        self.speed-=1\n",
    "mycar=Car('blue')\n",
    "mycar.color\n",
    "mycar.turn_left()\n",
    "mycar.decelerate()\n",
    "print(mycar.direction)\n",
    "print(mycar.speed)"
   ]
  },
  {
   "cell_type": "code",
   "execution_count": 59,
   "id": "bc930392",
   "metadata": {},
   "outputs": [
    {
     "name": "stdout",
     "output_type": "stream",
     "text": [
      "Hi Mstack\n",
      "bye Mstack\n",
      "[1] <class 'int'> 1\n",
      "[1, 2] <class 'int'> 2\n",
      "[1, 2, 3] <class 'int'> 3\n",
      "[1, 2, 3, 4] <class 'int'> 4\n",
      "[1, 2, 3, 4, 5] <class 'int'> 5\n",
      "length : 4\n"
     ]
    }
   ],
   "source": [
    "class Mstack:\n",
    "    def __init__(self):\n",
    "        self.stack=[]\n",
    "        print(\"Hi Mstack\")\n",
    "    def push(self,int1):\n",
    "        self.stack.append(int1)\n",
    "        print(self.stack,type(int1),int1)\n",
    "    def pop(self):\n",
    "        return self.stack.pop()\n",
    "    def length(self):\n",
    "        return len(self.stack)\n",
    "    def __del__(self):\n",
    "        print(\"bye Mstack\")\n",
    "\n",
    "if __name__=='__main__':\n",
    "    a1=Mstack()\n",
    "    for x in range(1,6):\n",
    "        a1.push(x)\n",
    "    a1.pop()\n",
    "    print('length :', a1.length())"
   ]
  },
  {
   "cell_type": "code",
   "execution_count": 66,
   "id": "55c61775",
   "metadata": {},
   "outputs": [
    {
     "name": "stdout",
     "output_type": "stream",
     "text": [
      "Dominica: (age: 12)\n",
      "Ruri: (age: 7)\n",
      "Ruri: (age: 7), grade: 3\n"
     ]
    }
   ],
   "source": [
    "class Person:\n",
    "    def __init__(self,name,age):\n",
    "        self.name=name\n",
    "        self.age=age\n",
    "    def PersonInfo(self):\n",
    "        return self.name+\": (age: \"+str(self.age)+\")\"\n",
    "class Student(Person):\n",
    "    def __init__(self, name,age,grade):\n",
    "        Person.__init__(self,name,age)\n",
    "        self.grade=grade\n",
    "    def GetStudent(self):\n",
    "        return self.PersonInfo()+\", grade: \"+ str(self.grade)\n",
    "if __name__ =='__main__':\n",
    "    x=Person(\"Dominica\",12)\n",
    "    y=Student(\"Ruri\",7,3)\n",
    "    \n",
    "    print(x.PersonInfo())\n",
    "    print(y.PersonInfo())\n",
    "    print(y.GetStudent())"
   ]
  },
  {
   "cell_type": "code",
   "execution_count": 67,
   "id": "ee72dd79",
   "metadata": {},
   "outputs": [
    {
     "name": "stdout",
     "output_type": "stream",
     "text": [
      "Dominica: (age: 12)\n",
      "Ruri: (age: 7)\n",
      "Ruri: (age: 7), grade: 3\n"
     ]
    }
   ],
   "source": [
    "class Person:\n",
    "    def __init__(self,name,age):    #super를 사용할때는 self를 사용하지 않는다\n",
    "        self.name=name\n",
    "        self.age=age\n",
    "    def PersonInfo(self):\n",
    "        return self.name+\": (age: \"+str(self.age)+\")\"\n",
    "class Student(Person):\n",
    "    def __init__(self, name,age,grade):\n",
    "        super().__init__(name,age)\n",
    "        self.grade=grade\n",
    "    def GetStudent(self):\n",
    "        return super().PersonInfo()+\", grade: \"+ str(self.grade)\n",
    "if __name__ =='__main__':\n",
    "    x=Person(\"Dominica\",12)\n",
    "    y=Student(\"Ruri\",7,3)\n",
    "    \n",
    "    print(x.PersonInfo())\n",
    "    print(y.PersonInfo())\n",
    "    print(y.GetStudent())"
   ]
  },
  {
   "cell_type": "code",
   "execution_count": 73,
   "id": "83d8c97c",
   "metadata": {},
   "outputs": [
    {
     "name": "stdout",
     "output_type": "stream",
     "text": [
      "try- 시작\n",
      "finally\n"
     ]
    },
    {
     "ename": "NameError",
     "evalue": "name 'sys' is not defined",
     "output_type": "error",
     "traceback": [
      "\u001b[1;31m---------------------------------------------------------------------------\u001b[0m",
      "\u001b[1;31mValueError\u001b[0m                                Traceback (most recent call last)",
      "Input \u001b[1;32mIn [73]\u001b[0m, in \u001b[0;36m<cell line: 1>\u001b[1;34m()\u001b[0m\n\u001b[0;32m      2\u001b[0m \u001b[38;5;28mprint\u001b[39m(\u001b[38;5;124m'\u001b[39m\u001b[38;5;124mtry- 시작\u001b[39m\u001b[38;5;124m'\u001b[39m)\n\u001b[1;32m----> 3\u001b[0m a\u001b[38;5;241m=\u001b[39m \u001b[38;5;28;43mint\u001b[39;49m\u001b[43m(\u001b[49m\u001b[38;5;124;43m'\u001b[39;49m\u001b[38;5;124;43mstring\u001b[39;49m\u001b[38;5;124;43m'\u001b[39;49m\u001b[43m)\u001b[49m\n\u001b[0;32m      4\u001b[0m \u001b[38;5;28mprint\u001b[39m(\u001b[38;5;124m'\u001b[39m\u001b[38;5;124mtry-종료\u001b[39m\u001b[38;5;124m'\u001b[39m)\n",
      "\u001b[1;31mValueError\u001b[0m: invalid literal for int() with base 10: 'string'",
      "\nDuring handling of the above exception, another exception occurred:\n",
      "\u001b[1;31mNameError\u001b[0m                                 Traceback (most recent call last)",
      "Input \u001b[1;32mIn [73]\u001b[0m, in \u001b[0;36m<cell line: 1>\u001b[1;34m()\u001b[0m\n\u001b[0;32m      6\u001b[0m     \u001b[38;5;28mprint\u001b[39m(\u001b[38;5;124m'\u001b[39m\u001b[38;5;124m0으로 나누거나 파일이 존재하지 않음\u001b[39m\u001b[38;5;124m'\u001b[39m)\n\u001b[0;32m      7\u001b[0m \u001b[38;5;28;01mexcept\u001b[39;00m:\n\u001b[1;32m----> 8\u001b[0m     \u001b[38;5;28mprint\u001b[39m(\u001b[43msys\u001b[49m\u001b[38;5;241m.\u001b[39mexc_info())\n\u001b[0;32m      9\u001b[0m \u001b[38;5;28;01mfinally\u001b[39;00m: \u001b[38;5;28mprint\u001b[39m(\u001b[38;5;124m'\u001b[39m\u001b[38;5;124mfinally\u001b[39m\u001b[38;5;124m'\u001b[39m)\n",
      "\u001b[1;31mNameError\u001b[0m: name 'sys' is not defined"
     ]
    }
   ],
   "source": [
    "try:\n",
    "    print('try- 시작')\n",
    "    a= int('string')\n",
    "    print('try-종료')\n",
    "except (ZeroDivisionError,IOError):\n",
    "    print('0으로 나누거나 파일이 존재하지 않음')\n",
    "except:\n",
    "    print(sys.exc_info())\n",
    "finally: print('finally')"
   ]
  },
  {
   "cell_type": "code",
   "execution_count": 74,
   "id": "6d60e135",
   "metadata": {},
   "outputs": [
    {
     "name": "stdout",
     "output_type": "stream",
     "text": [
      "integer\n",
      "float\n",
      "string\n"
     ]
    }
   ],
   "source": [
    "def check_type(s):\n",
    "    try:\n",
    "        int(s)\n",
    "        return 'integer'\n",
    "    except ValueError:\n",
    "        try:\n",
    "            float(s)\n",
    "            return 'float'\n",
    "        except:\n",
    "            return 'string'\n",
    "if __name__ =='__main__':\n",
    "    print(check_type('12'))\n",
    "    print(check_type('1.23'))\n",
    "    print(check_type('ab'))"
   ]
  },
  {
   "cell_type": "code",
   "execution_count": 76,
   "id": "157c0f8e",
   "metadata": {},
   "outputs": [
    {
     "name": "stdout",
     "output_type": "stream",
     "text": [
      "Error!!! Baaaaaaam!!!\n"
     ]
    }
   ],
   "source": [
    "class MyException(Exception):\n",
    "    def __init__(self,value):\n",
    "        self.value=value\n",
    "    def __str__(self):\n",
    "        return self.value\n",
    "def raise_exception(err_msg):\n",
    "    raise MyException(err_msg)\n",
    "try:\n",
    "    raise_exception('Error!!! Baaaaaaam!!!')\n",
    "except MyException as e:\n",
    "    print(e)"
   ]
  },
  {
   "cell_type": "code",
   "execution_count": 102,
   "id": "9bf96ec7",
   "metadata": {},
   "outputs": [
    {
     "name": "stdout",
     "output_type": "stream",
     "text": [
      "input num1, num2: 3 4\n",
      "Result is 0.75\n"
     ]
    }
   ],
   "source": [
    "class MyException(Exception):\n",
    "    def __init__(self,message):\n",
    "        self.message=message\n",
    "try:\n",
    "    #num1,num2=eval(input('input num1, num2: '))\n",
    "    num1,num2=tuple(input('input num1, num2: ').split(' '))\n",
    "    if int(num2)==0:\n",
    "        raise MyException(\"0으로 나누려 했음\")\n",
    "    result= int(num1)/int(num2)\n",
    "    print('Result is',result)\n",
    "except MyException as e:\n",
    "    print(e.message)"
   ]
  },
  {
   "cell_type": "code",
   "execution_count": 103,
   "id": "6ba9ddab",
   "metadata": {},
   "outputs": [
    {
     "name": "stdout",
     "output_type": "stream",
     "text": [
      "name:  foo.txt\n",
      "mode:  w\n",
      "closed:  False\n",
      "closed:  True\n"
     ]
    }
   ],
   "source": [
    "fo=open('foo.txt','w')\n",
    "print('name: ',fo.name)\n",
    "print('mode: ',fo.mode)\n",
    "print('closed: ',fo.closed)\n",
    "fo.close()\n",
    "print('closed: ',fo.closed)"
   ]
  },
  {
   "cell_type": "code",
   "execution_count": 104,
   "id": "03f8d8b7",
   "metadata": {},
   "outputs": [],
   "source": [
    "fo=open('foo.txt','w')\n",
    "fo.write('Python is a great language. \\nYeah it is great.\\n')\n",
    "fo.close()"
   ]
  },
  {
   "cell_type": "code",
   "execution_count": 106,
   "id": "64c61175",
   "metadata": {},
   "outputs": [],
   "source": [
    "fo=open('foo.txt','a',encoding='utf8')\n",
    "fo.write('abcdefg. \\nmyname seoseongbae \\n한글')\n",
    "fo.close()"
   ]
  },
  {
   "cell_type": "code",
   "execution_count": 107,
   "id": "0af89f78",
   "metadata": {},
   "outputs": [
    {
     "name": "stdout",
     "output_type": "stream",
     "text": [
      "Python is \n"
     ]
    }
   ],
   "source": [
    "fo=open('foo.txt','r',encoding='utf8')\n",
    "s=fo.read(10)\n",
    "print(s)\n",
    "fo.close()"
   ]
  },
  {
   "cell_type": "code",
   "execution_count": 115,
   "id": "73be8a63",
   "metadata": {},
   "outputs": [
    {
     "name": "stdout",
     "output_type": "stream",
     "text": [
      "{'a': [1, 2.0, 3, 10], 'b': ('character string', b'byte string'), 'c': {False, True, None}}\n"
     ]
    }
   ],
   "source": [
    "import pickle\n",
    "data={\n",
    "    'a':[1,2.0,3,4+6],\n",
    "    'b':('character string',b'byte string'),\n",
    "    'c':{None, True, False}\n",
    "    }\n",
    "with open('data.pickle','wb')as f:\n",
    "    pickle.dump(data,f,pickle.HIGHEST_PROTOCOL)\n",
    "with open('data.pickle','rb')as f:\n",
    "    data=pickle.load(f)\n",
    "    print(data)"
   ]
  },
  {
   "cell_type": "code",
   "execution_count": 149,
   "id": "c48a28e7",
   "metadata": {},
   "outputs": [
    {
     "name": "stdout",
     "output_type": "stream",
     "text": [
      "('the', 102)\n"
     ]
    }
   ],
   "source": [
    "import string\n",
    "\n",
    "def WordCount():\n",
    "    words={}\n",
    "    strip=string.whitespace+string.punctuation+string.digits+\"\\\"'\" \n",
    "    with open(\"./dataset/ihaveadream.txt\",encoding='UTF-8')as file:\n",
    "        for line in file:\n",
    "            for word in line.lower().split():\n",
    "                word=word.strip(strip)\n",
    "                words[word]=words.setdefault(word,0)+1\n",
    "                \n",
    "    return words\n",
    "\n",
    "\n",
    "def majorityCnt(words):\n",
    "    a=sorted(words.items(),key=lambda x:x[1], reverse=True)\n",
    "    return a[0]\n",
    "\n",
    "print(majorityCnt(WordCount()))"
   ]
  },
  {
   "cell_type": "code",
   "execution_count": null,
   "id": "c8c95557",
   "metadata": {},
   "outputs": [],
   "source": []
  }
 ],
 "metadata": {
  "kernelspec": {
   "display_name": "Python 3 (ipykernel)",
   "language": "python",
   "name": "python3"
  },
  "language_info": {
   "codemirror_mode": {
    "name": "ipython",
    "version": 3
   },
   "file_extension": ".py",
   "mimetype": "text/x-python",
   "name": "python",
   "nbconvert_exporter": "python",
   "pygments_lexer": "ipython3",
   "version": "3.8.13"
  }
 },
 "nbformat": 4,
 "nbformat_minor": 5
}
