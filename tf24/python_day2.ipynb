{
 "cells": [
  {
   "cell_type": "code",
   "execution_count": 5,
   "id": "049aa762",
   "metadata": {},
   "outputs": [
    {
     "name": "stdout",
     "output_type": "stream",
     "text": [
      "1: apple\n",
      "2: banana\n",
      "3: kiwi\n"
     ]
    }
   ],
   "source": [
    "fruits=['apple','banana','kiwi']\n",
    "for i,f in enumerate(fruits,start=1):\n",
    "    print('{0}: {1}'.format(i,f))"
   ]
  },
  {
   "cell_type": "code",
   "execution_count": 8,
   "id": "075963f8",
   "metadata": {},
   "outputs": [
    {
     "name": "stdout",
     "output_type": "stream",
     "text": [
      "101:apple\n",
      "102:banana\n",
      "103:kiwi\n"
     ]
    }
   ],
   "source": [
    "fruits=['apple','banana','kiwi']\n",
    "idx=[101,102,103]\n",
    "for i,f in zip(idx,fruits):\n",
    "    print('{0}:{1}'.format(i,f))"
   ]
  },
  {
   "cell_type": "code",
   "execution_count": 9,
   "id": "7b6da4fd",
   "metadata": {},
   "outputs": [
    {
     "data": {
      "text/plain": [
       "[(101, 'apple'), (102, 'banana'), (103, 'kiwi')]"
      ]
     },
     "execution_count": 9,
     "metadata": {},
     "output_type": "execute_result"
    }
   ],
   "source": [
    "list(zip(idx,fruits))"
   ]
  },
  {
   "cell_type": "code",
   "execution_count": 10,
   "id": "aa70fceb",
   "metadata": {},
   "outputs": [
    {
     "name": "stdout",
     "output_type": "stream",
     "text": [
      "5\n",
      "6\n",
      "4\n"
     ]
    }
   ],
   "source": [
    "fruits=['apple','banana','kiwi']\n",
    "def string_length(string): #def는 정의하다 \n",
    "    return len(string) #len는 문자열의 길이를 알려줌\n",
    "for l in map(string_length,fruits):\n",
    "    print(l)"
   ]
  },
  {
   "cell_type": "code",
   "execution_count": 11,
   "id": "e1659694",
   "metadata": {},
   "outputs": [
    {
     "data": {
      "text/plain": [
       "[5, 6, 4]"
      ]
     },
     "execution_count": 11,
     "metadata": {},
     "output_type": "execute_result"
    }
   ],
   "source": [
    "def string_length(string):\n",
    "    return len(string)\n",
    "list(map(string_length,fruits))"
   ]
  },
  {
   "cell_type": "code",
   "execution_count": 18,
   "id": "3bf819d0",
   "metadata": {},
   "outputs": [
    {
     "name": "stdout",
     "output_type": "stream",
     "text": [
      "    1    2    3    4    5"
     ]
    }
   ],
   "source": [
    "for i in range(1,10):\n",
    "    if i > 5:\n",
    "        break\n",
    "    print('%5d' % i, end='') #end 는 줄바꿈 안하고 이어서 프린트"
   ]
  },
  {
   "cell_type": "code",
   "execution_count": 19,
   "id": "069655a9",
   "metadata": {},
   "outputs": [
    {
     "name": "stdout",
     "output_type": "stream",
     "text": [
      "    1    3    5    7    9"
     ]
    }
   ],
   "source": [
    "for i in range(10):\n",
    "    if i%2==0:\n",
    "        continue\n",
    "    print('%5d' % i, end='')"
   ]
  },
  {
   "cell_type": "code",
   "execution_count": 21,
   "id": "7d5b4055",
   "metadata": {},
   "outputs": [
    {
     "name": "stdout",
     "output_type": "stream",
     "text": [
      "1\n",
      "2\n",
      "3\n",
      "4\n",
      "5\n",
      "6\n",
      "7\n",
      "8\n",
      "9\n",
      "10\n",
      "1000\n"
     ]
    }
   ],
   "source": [
    "i=1\n",
    "while i <= 10:\n",
    "    print(i)\n",
    "    i+=1\n",
    "else:\n",
    "    print(1000)"
   ]
  },
  {
   "cell_type": "code",
   "execution_count": 35,
   "id": "140629f5",
   "metadata": {},
   "outputs": [
    {
     "name": "stdout",
     "output_type": "stream",
     "text": [
      "1번 학생은 합격입니다\n",
      "2번 학생은 불합격입니다\n",
      "3번 학생은 합격입니다\n",
      "4번 학생은 불합격입니다\n",
      "5번 학생은 합격입니다\n"
     ]
    }
   ],
   "source": [
    "marks=[90,25,67,45,80]\n",
    "number=0\n",
    "for i in marks:\n",
    "    number+=1\n",
    "    if i>60:\n",
    "        print(\"%d번 학생은 합격입니다\"% number)\n",
    "    else:\n",
    "         print(\"%d번 학생은 불합격입니다\"% number)"
   ]
  },
  {
   "cell_type": "code",
   "execution_count": 36,
   "id": "e86e7262",
   "metadata": {},
   "outputs": [
    {
     "name": "stdout",
     "output_type": "stream",
     "text": [
      "1번 학생은 합격입니다\n",
      "2번 학생은 불합격입니다\n",
      "3번 학생은 합격입니다\n",
      "4번 학생은 불합격입니다\n",
      "5번 학생은 합격입니다\n"
     ]
    }
   ],
   "source": [
    "marks=[90,25,67,45,80]\n",
    "#number=0\n",
    "for f,i in enumerate(marks,start=1):\n",
    "    #number+=1\n",
    "    if i>60:\n",
    "        print(\"%d번 학생은 합격입니다\"% f)\n",
    "    else:\n",
    "         print(\"%d번 학생은 불합격입니다\"% f)"
   ]
  },
  {
   "cell_type": "code",
   "execution_count": 39,
   "id": "177d666b",
   "metadata": {},
   "outputs": [
    {
     "name": "stdout",
     "output_type": "stream",
     "text": [
      "1번학생축하합니다 합격입니다\n",
      "3번학생축하합니다 합격입니다\n",
      "5번학생축하합니다 합격입니다\n"
     ]
    }
   ],
   "source": [
    "marks=[90,25,67,45,80]\n",
    "for f,i in enumerate(marks,start=1):\n",
    "    if i>60:\n",
    "        print(\"%d번학생축하합니다 합격입니다\"%f)\n",
    "    else:\n",
    "         continue"
   ]
  },
  {
   "cell_type": "code",
   "execution_count": 68,
   "id": "ba082527",
   "metadata": {},
   "outputs": [
    {
     "name": "stdout",
     "output_type": "stream",
     "text": [
      "6\n"
     ]
    }
   ],
   "source": [
    "n=1260\n",
    "count=0\n",
    "while n>=10:\n",
    "    if n>500:\n",
    "        n-=500\n",
    "        count+=1\n",
    "    elif n>100:\n",
    "        n-=100\n",
    "        count+=1\n",
    "    elif n>50:\n",
    "        n-=50\n",
    "        count+=1\n",
    "    elif n>=10:\n",
    "        n-=10\n",
    "        count+=1\n",
    "print(count)"
   ]
  },
  {
   "cell_type": "code",
   "execution_count": 64,
   "id": "35d3b505",
   "metadata": {},
   "outputs": [
    {
     "name": "stdout",
     "output_type": "stream",
     "text": [
      "6\n"
     ]
    }
   ],
   "source": [
    "n=1260\n",
    "array=[500,100,50,10]\n",
    "count=0\n",
    "for coin in array:\n",
    "    count+=n//coin\n",
    "    n%=coin\n",
    "print(count)"
   ]
  },
  {
   "cell_type": "code",
   "execution_count": 70,
   "id": "37b89afd",
   "metadata": {},
   "outputs": [
    {
     "name": "stdout",
     "output_type": "stream",
     "text": [
      "[4, 3, 2.0, 1, 'peger']\n",
      "5\n"
     ]
    }
   ],
   "source": [
    "lst=[4,3,2.0,0,'peger']\n",
    "lst[3]=1\n",
    "print(lst)\n",
    "print(len(lst))"
   ]
  },
  {
   "cell_type": "code",
   "execution_count": 74,
   "id": "50b75115",
   "metadata": {},
   "outputs": [
    {
     "data": {
      "text/plain": [
       "['a', 1, 2, 7.0, [1, 2, 3], 'b']"
      ]
     },
     "execution_count": 74,
     "metadata": {},
     "output_type": "execute_result"
    }
   ],
   "source": [
    "lst=[\"a\",1,2,7.0,[1,2,3]]\n",
    "lst.append(\"b\")\n",
    "lst"
   ]
  },
  {
   "cell_type": "code",
   "execution_count": 76,
   "id": "be851d9d",
   "metadata": {},
   "outputs": [
    {
     "data": {
      "text/plain": [
       "['a', 1, 7.0, [1, 2, 3], 'b']"
      ]
     },
     "execution_count": 76,
     "metadata": {},
     "output_type": "execute_result"
    }
   ],
   "source": [
    "lst.remove(2)\n",
    "lst"
   ]
  },
  {
   "cell_type": "code",
   "execution_count": 77,
   "id": "1527ab43",
   "metadata": {},
   "outputs": [
    {
     "data": {
      "text/plain": [
       "['a', 1, 7.0, [1, 2, 3]]"
      ]
     },
     "execution_count": 77,
     "metadata": {},
     "output_type": "execute_result"
    }
   ],
   "source": [
    "lst.pop()\n",
    "lst"
   ]
  },
  {
   "cell_type": "code",
   "execution_count": 78,
   "id": "829f7176",
   "metadata": {},
   "outputs": [
    {
     "data": {
      "text/plain": [
       "['a', 1, 7.0, [1, 2, 3], 1, 2]"
      ]
     },
     "execution_count": 78,
     "metadata": {},
     "output_type": "execute_result"
    }
   ],
   "source": [
    "lst.extend([1,2])\n",
    "lst"
   ]
  },
  {
   "cell_type": "code",
   "execution_count": 82,
   "id": "089bfe5d",
   "metadata": {},
   "outputs": [],
   "source": [
    "#['a', 1, 2, 7.0, [1, 2, 3]]\n",
    "#lst.append(\"b\") 뒤에다 b를 추기한다 ['a', 1, 2, 7.0, [1, 2, 3], 'b']\n",
    "#lst.remove(2) remove안에있는 값을 삭제한다 ['a', 1, 7.0, [1, 2, 3], 'b']\n",
    "#lst.pop() 맨 뒤에있는값을 지운다 ['a', 1, 7.0, [1, 2, 3]]\n",
    "#lst.extend([1,2]) 맨뒤에 list를 추가한다 ['a', 1, 7.0, [1, 2, 3], 1, 2]\n",
    "#lst.insert(1,0) 1=index,0값 추가 ['a', 0, 1, 7.0, [1, 2, 3], 1, 2]"
   ]
  },
  {
   "cell_type": "code",
   "execution_count": 80,
   "id": "2d448a86",
   "metadata": {},
   "outputs": [
    {
     "data": {
      "text/plain": [
       "['a', 0, 1, 7.0, [1, 2, 3], 1, 2]"
      ]
     },
     "execution_count": 80,
     "metadata": {},
     "output_type": "execute_result"
    }
   ],
   "source": [
    "lst.insert(1,0) # 1=index 0= 값\n",
    "lst"
   ]
  },
  {
   "cell_type": "code",
   "execution_count": 83,
   "id": "fa11d0d6",
   "metadata": {},
   "outputs": [
    {
     "data": {
      "text/plain": [
       "3"
      ]
     },
     "execution_count": 83,
     "metadata": {},
     "output_type": "execute_result"
    }
   ],
   "source": [
    "lst[4][2]"
   ]
  },
  {
   "cell_type": "code",
   "execution_count": 85,
   "id": "d007b91f",
   "metadata": {},
   "outputs": [],
   "source": [
    "lst1=[1,2,3]\n",
    "lst2=[]"
   ]
  },
  {
   "cell_type": "code",
   "execution_count": 86,
   "id": "9090d039",
   "metadata": {},
   "outputs": [
    {
     "data": {
      "text/plain": [
       "[1, 4, 9]"
      ]
     },
     "execution_count": 86,
     "metadata": {},
     "output_type": "execute_result"
    }
   ],
   "source": [
    "for i in lst1:\n",
    "    lst2.append(i**2)\n",
    "lst2"
   ]
  },
  {
   "cell_type": "code",
   "execution_count": 88,
   "id": "32af0e75",
   "metadata": {},
   "outputs": [],
   "source": [
    "lst2=[i**2 for i in lst1] #list 내포"
   ]
  },
  {
   "cell_type": "code",
   "execution_count": 89,
   "id": "afba5c20",
   "metadata": {},
   "outputs": [
    {
     "data": {
      "text/plain": [
       "[(1, 1), (4, 16)]"
      ]
     },
     "execution_count": 89,
     "metadata": {},
     "output_type": "execute_result"
    }
   ],
   "source": [
    "lst3=[(x,x**2) for x in lst2 if x<5]\n",
    "lst3"
   ]
  },
  {
   "cell_type": "code",
   "execution_count": 90,
   "id": "5fac531a",
   "metadata": {},
   "outputs": [
    {
     "data": {
      "text/plain": [
       "[1, 4, 4, 16, 9, 36]"
      ]
     },
     "execution_count": 90,
     "metadata": {},
     "output_type": "execute_result"
    }
   ],
   "source": [
    "lst4=[x*y[0] for x in lst2 for y in lst3]\n",
    "lst4"
   ]
  },
  {
   "cell_type": "code",
   "execution_count": 91,
   "id": "0bfb601c",
   "metadata": {},
   "outputs": [
    {
     "data": {
      "text/plain": [
       "[1, 4, 4, 16, 9, 36]"
      ]
     },
     "execution_count": 91,
     "metadata": {},
     "output_type": "execute_result"
    }
   ],
   "source": [
    "lst4=[]\n",
    "for x in lst2:\n",
    "    for y in lst3:\n",
    "        lst4.append(x*y[0])\n",
    "lst4"
   ]
  },
  {
   "cell_type": "code",
   "execution_count": null,
   "id": "62fccd25",
   "metadata": {
    "scrolled": false
   },
   "outputs": [],
   "source": []
  },
  {
   "cell_type": "code",
   "execution_count": 93,
   "id": "4ba56f72",
   "metadata": {},
   "outputs": [],
   "source": [
    "import random"
   ]
  },
  {
   "cell_type": "code",
   "execution_count": 94,
   "id": "7c113c15",
   "metadata": {},
   "outputs": [
    {
     "data": {
      "text/plain": [
       "'b'"
      ]
     },
     "execution_count": 94,
     "metadata": {},
     "output_type": "execute_result"
    }
   ],
   "source": [
    "random.choice([\"a\",\"b\",\"c\"])"
   ]
  },
  {
   "cell_type": "code",
   "execution_count": null,
   "id": "0789d19e",
   "metadata": {},
   "outputs": [],
   "source": [
    "#b=random.shuffle([\"a\",\"b\",\"c\"])\n",
    "#b"
   ]
  },
  {
   "cell_type": "code",
   "execution_count": 96,
   "id": "48dc5d21",
   "metadata": {},
   "outputs": [
    {
     "data": {
      "text/plain": [
       "['c', 'b']"
      ]
     },
     "execution_count": 96,
     "metadata": {},
     "output_type": "execute_result"
    }
   ],
   "source": [
    "b=random.sample([\"a\",\"b\",\"c\"],2)\n",
    "b"
   ]
  },
  {
   "cell_type": "code",
   "execution_count": 128,
   "id": "37677803",
   "metadata": {},
   "outputs": [
    {
     "name": "stdout",
     "output_type": "stream",
     "text": [
      "answer:apple\n",
      "\n",
      "_____\n",
      "input your letter:a\n",
      "correct\n",
      "\n",
      "a____\n",
      "input your letter:l\n",
      "correct\n",
      "\n",
      "a__l_\n",
      "input your letter:e\n",
      "correct\n",
      "\n",
      "a__le\n",
      "input your letter:p\n",
      "correct\n",
      "\n",
      "apple\n",
      "success\n"
     ]
    }
   ],
   "source": [
    "words=[\"coffee\",\"apple\",\"banana\"]\n",
    "word=random.choice(words)\n",
    "letters=\"\"\n",
    "count=0\n",
    "print(\"answer:\"+word)\n",
    "while True:\n",
    "    suceed=True\n",
    "    print()\n",
    "    for i in word:\n",
    "        if i in letters:\n",
    "            print(i, end=\"\")\n",
    "        else:\n",
    "            print(\"_\",end=\"\")\n",
    "            suceed=False\n",
    "    print()\n",
    "    if suceed:\n",
    "        print(\"success\")\n",
    "        break\n",
    "    letter = input(\"input your letter:\")\n",
    "    if letter not in letters:\n",
    "        letters+=letter\n",
    "    if letter in word:\n",
    "        print(\"correct\")\n",
    "    else:\n",
    "        print(\"wrong\")\n",
    "        count+=1\n",
    "    if count==10:\n",
    "        break\n",
    "        "
   ]
  },
  {
   "cell_type": "code",
   "execution_count": 131,
   "id": "0257f512",
   "metadata": {},
   "outputs": [
    {
     "name": "stdout",
     "output_type": "stream",
     "text": [
      "answer:apple\n",
      "\n",
      "_____\n"
     ]
    },
    {
     "ename": "KeyboardInterrupt",
     "evalue": "Interrupted by user",
     "output_type": "error",
     "traceback": [
      "\u001b[1;31m---------------------------------------------------------------------------\u001b[0m",
      "\u001b[1;31mKeyboardInterrupt\u001b[0m                         Traceback (most recent call last)",
      "File \u001b[1;32m~\\tf24\\word.py:20\u001b[0m, in \u001b[0;36m<module>\u001b[1;34m\u001b[0m\n\u001b[0;32m     18\u001b[0m     \u001b[38;5;28mprint\u001b[39m(\u001b[38;5;124m\"\u001b[39m\u001b[38;5;124msuccess\u001b[39m\u001b[38;5;124m\"\u001b[39m)\n\u001b[0;32m     19\u001b[0m     \u001b[38;5;28;01mbreak\u001b[39;00m\n\u001b[1;32m---> 20\u001b[0m letter \u001b[38;5;241m=\u001b[39m\u001b[38;5;28;43minput\u001b[39;49m\u001b[43m(\u001b[49m\u001b[38;5;124;43m\"\u001b[39;49m\u001b[38;5;124;43minput your letter:\u001b[39;49m\u001b[38;5;124;43m\"\u001b[39;49m\u001b[43m)\u001b[49m\n\u001b[0;32m     21\u001b[0m \u001b[38;5;28;01mif\u001b[39;00m letter \u001b[38;5;129;01mnot\u001b[39;00m \u001b[38;5;129;01min\u001b[39;00m letters:\n\u001b[0;32m     22\u001b[0m     letters\u001b[38;5;241m+\u001b[39m\u001b[38;5;241m=\u001b[39mletter\n",
      "File \u001b[1;32m~\\anaconda3\\envs\\tf24\\lib\\site-packages\\ipykernel\\kernelbase.py:1075\u001b[0m, in \u001b[0;36mKernel.raw_input\u001b[1;34m(self, prompt)\u001b[0m\n\u001b[0;32m   1071\u001b[0m \u001b[38;5;28;01mif\u001b[39;00m \u001b[38;5;129;01mnot\u001b[39;00m \u001b[38;5;28mself\u001b[39m\u001b[38;5;241m.\u001b[39m_allow_stdin:\n\u001b[0;32m   1072\u001b[0m     \u001b[38;5;28;01mraise\u001b[39;00m StdinNotImplementedError(\n\u001b[0;32m   1073\u001b[0m         \u001b[38;5;124m\"\u001b[39m\u001b[38;5;124mraw_input was called, but this frontend does not support input requests.\u001b[39m\u001b[38;5;124m\"\u001b[39m\n\u001b[0;32m   1074\u001b[0m     )\n\u001b[1;32m-> 1075\u001b[0m \u001b[38;5;28;01mreturn\u001b[39;00m \u001b[38;5;28;43mself\u001b[39;49m\u001b[38;5;241;43m.\u001b[39;49m\u001b[43m_input_request\u001b[49m\u001b[43m(\u001b[49m\n\u001b[0;32m   1076\u001b[0m \u001b[43m    \u001b[49m\u001b[38;5;28;43mstr\u001b[39;49m\u001b[43m(\u001b[49m\u001b[43mprompt\u001b[49m\u001b[43m)\u001b[49m\u001b[43m,\u001b[49m\n\u001b[0;32m   1077\u001b[0m \u001b[43m    \u001b[49m\u001b[38;5;28;43mself\u001b[39;49m\u001b[38;5;241;43m.\u001b[39;49m\u001b[43m_parent_ident\u001b[49m\u001b[43m[\u001b[49m\u001b[38;5;124;43m\"\u001b[39;49m\u001b[38;5;124;43mshell\u001b[39;49m\u001b[38;5;124;43m\"\u001b[39;49m\u001b[43m]\u001b[49m\u001b[43m,\u001b[49m\n\u001b[0;32m   1078\u001b[0m \u001b[43m    \u001b[49m\u001b[38;5;28;43mself\u001b[39;49m\u001b[38;5;241;43m.\u001b[39;49m\u001b[43mget_parent\u001b[49m\u001b[43m(\u001b[49m\u001b[38;5;124;43m\"\u001b[39;49m\u001b[38;5;124;43mshell\u001b[39;49m\u001b[38;5;124;43m\"\u001b[39;49m\u001b[43m)\u001b[49m\u001b[43m,\u001b[49m\n\u001b[0;32m   1079\u001b[0m \u001b[43m    \u001b[49m\u001b[43mpassword\u001b[49m\u001b[38;5;241;43m=\u001b[39;49m\u001b[38;5;28;43;01mFalse\u001b[39;49;00m\u001b[43m,\u001b[49m\n\u001b[0;32m   1080\u001b[0m \u001b[43m\u001b[49m\u001b[43m)\u001b[49m\n",
      "File \u001b[1;32m~\\anaconda3\\envs\\tf24\\lib\\site-packages\\ipykernel\\kernelbase.py:1120\u001b[0m, in \u001b[0;36mKernel._input_request\u001b[1;34m(self, prompt, ident, parent, password)\u001b[0m\n\u001b[0;32m   1117\u001b[0m             \u001b[38;5;28;01mbreak\u001b[39;00m\n\u001b[0;32m   1118\u001b[0m \u001b[38;5;28;01mexcept\u001b[39;00m \u001b[38;5;167;01mKeyboardInterrupt\u001b[39;00m:\n\u001b[0;32m   1119\u001b[0m     \u001b[38;5;66;03m# re-raise KeyboardInterrupt, to truncate traceback\u001b[39;00m\n\u001b[1;32m-> 1120\u001b[0m     \u001b[38;5;28;01mraise\u001b[39;00m \u001b[38;5;167;01mKeyboardInterrupt\u001b[39;00m(\u001b[38;5;124m\"\u001b[39m\u001b[38;5;124mInterrupted by user\u001b[39m\u001b[38;5;124m\"\u001b[39m) \u001b[38;5;28;01mfrom\u001b[39;00m \u001b[38;5;28mNone\u001b[39m\n\u001b[0;32m   1121\u001b[0m \u001b[38;5;28;01mexcept\u001b[39;00m \u001b[38;5;167;01mException\u001b[39;00m:\n\u001b[0;32m   1122\u001b[0m     \u001b[38;5;28mself\u001b[39m\u001b[38;5;241m.\u001b[39mlog\u001b[38;5;241m.\u001b[39mwarning(\u001b[38;5;124m\"\u001b[39m\u001b[38;5;124mInvalid Message:\u001b[39m\u001b[38;5;124m\"\u001b[39m, exc_info\u001b[38;5;241m=\u001b[39m\u001b[38;5;28;01mTrue\u001b[39;00m)\n",
      "\u001b[1;31mKeyboardInterrupt\u001b[0m: Interrupted by user"
     ]
    }
   ],
   "source": [
    "%run word.py"
   ]
  },
  {
   "cell_type": "code",
   "execution_count": 139,
   "id": "0c921c99",
   "metadata": {},
   "outputs": [
    {
     "name": "stdout",
     "output_type": "stream",
     "text": [
      "1\n",
      "1 <class 'int'>\n"
     ]
    }
   ],
   "source": [
    "t=(1,2,'sam')\n",
    "print(t[0])\n",
    "t2=(1)\n",
    "t3=(1,)\n",
    "print(t2,type(t2))\n"
   ]
  },
  {
   "cell_type": "code",
   "execution_count": 140,
   "id": "fd856b78",
   "metadata": {},
   "outputs": [
    {
     "data": {
      "text/plain": [
       "['This', 'is', 'a,string']"
      ]
     },
     "execution_count": 140,
     "metadata": {},
     "output_type": "execute_result"
    }
   ],
   "source": [
    "st='This.is.a,string'\n",
    "st.split('.')"
   ]
  },
  {
   "cell_type": "code",
   "execution_count": 151,
   "id": "c427d4f3",
   "metadata": {},
   "outputs": [
    {
     "data": {
      "text/plain": [
       "'This is a string'"
      ]
     },
     "execution_count": 151,
     "metadata": {},
     "output_type": "execute_result"
    }
   ],
   "source": [
    "st1='This is a string'\n",
    "st1.split()\n",
    "st1.find('string')\n",
    "st1.replace('string','sentece')\n",
    "st1"
   ]
  },
  {
   "cell_type": "code",
   "execution_count": 170,
   "id": "4011575c",
   "metadata": {},
   "outputs": [
    {
     "name": "stdout",
     "output_type": "stream",
     "text": [
      "male\n"
     ]
    }
   ],
   "source": [
    "pin=\"881120-1068234\"\n",
    "pin.split('-')\n",
    "b=pin.find('-')+1\n",
    "if pin[b]=='1':\n",
    "    print('male')\n",
    "elif pin[b]!=1:\n",
    "    print('not male')"
   ]
  },
  {
   "cell_type": "code",
   "execution_count": 171,
   "id": "a1c6c493",
   "metadata": {},
   "outputs": [],
   "source": [
    "a={1:\"a\"}"
   ]
  },
  {
   "cell_type": "code",
   "execution_count": 172,
   "id": "71635dc6",
   "metadata": {},
   "outputs": [
    {
     "data": {
      "text/plain": [
       "dict"
      ]
     },
     "execution_count": 172,
     "metadata": {},
     "output_type": "execute_result"
    }
   ],
   "source": [
    "type(a)"
   ]
  },
  {
   "cell_type": "code",
   "execution_count": 173,
   "id": "eeb18623",
   "metadata": {},
   "outputs": [
    {
     "data": {
      "text/plain": [
       "{1: 'a', 2: 'b'}"
      ]
     },
     "execution_count": 173,
     "metadata": {},
     "output_type": "execute_result"
    }
   ],
   "source": [
    "a[2]=\"b\"\n",
    "a"
   ]
  },
  {
   "cell_type": "code",
   "execution_count": 174,
   "id": "1b35a9f4",
   "metadata": {},
   "outputs": [
    {
     "data": {
      "text/plain": [
       "'a'"
      ]
     },
     "execution_count": 174,
     "metadata": {},
     "output_type": "execute_result"
    }
   ],
   "source": [
    "a[1]"
   ]
  },
  {
   "cell_type": "code",
   "execution_count": 176,
   "id": "57115a1c",
   "metadata": {},
   "outputs": [
    {
     "data": {
      "text/plain": [
       "{1: 'a', 2: 'b', 'ab': 7}"
      ]
     },
     "execution_count": 176,
     "metadata": {},
     "output_type": "execute_result"
    }
   ],
   "source": [
    "a[\"ab\"]=7\n",
    "a"
   ]
  },
  {
   "cell_type": "code",
   "execution_count": 177,
   "id": "f42f7f59",
   "metadata": {},
   "outputs": [
    {
     "data": {
      "text/plain": [
       "{1: 'a', 2: 'b', 'ab': 7, (9, 1): [1, 2, 3]}"
      ]
     },
     "execution_count": 177,
     "metadata": {},
     "output_type": "execute_result"
    }
   ],
   "source": [
    "a[9,1]=[1,2,3]\n",
    "a"
   ]
  },
  {
   "cell_type": "code",
   "execution_count": 178,
   "id": "dfe73d1f",
   "metadata": {},
   "outputs": [
    {
     "name": "stdout",
     "output_type": "stream",
     "text": [
      "dict_keys([1, 2, 'ab', (9, 1)]) dict_values(['a', 'b', 7, [1, 2, 3]]) dict_items([(1, 'a'), (2, 'b'), ('ab', 7), ((9, 1), [1, 2, 3])])\n"
     ]
    }
   ],
   "source": [
    "print(a.keys(),a.values(),a.items())"
   ]
  },
  {
   "cell_type": "code",
   "execution_count": 179,
   "id": "d50498be",
   "metadata": {},
   "outputs": [
    {
     "data": {
      "text/plain": [
       "7"
      ]
     },
     "execution_count": 179,
     "metadata": {},
     "output_type": "execute_result"
    }
   ],
   "source": [
    "a[\"ab\"]"
   ]
  },
  {
   "cell_type": "code",
   "execution_count": 181,
   "id": "3ddd67d2",
   "metadata": {},
   "outputs": [],
   "source": [
    "a.get(\"c\") #get은 값이 없을때 아무값이 안보임"
   ]
  },
  {
   "cell_type": "code",
   "execution_count": 184,
   "id": "9c919139",
   "metadata": {},
   "outputs": [
    {
     "data": {
      "text/plain": [
       "100"
      ]
     },
     "execution_count": 184,
     "metadata": {},
     "output_type": "execute_result"
    }
   ],
   "source": [
    "a.setdefault(\"c\",100) #setdefault는 값이 없을때 뒤에있는값을 반환"
   ]
  },
  {
   "cell_type": "code",
   "execution_count": 218,
   "id": "5bc72004",
   "metadata": {},
   "outputs": [
    {
     "name": "stdout",
     "output_type": "stream",
     "text": [
      "{'l': 1, 'i': 3, 'f': 1, 'e': 2, 's': 5, 'h': 2, 'o': 3, 'r': 1, 't': 2, 'p': 1, 'y': 2, 'n': 1, 'a': 1}\n"
     ]
    }
   ],
   "source": [
    "s=\"life is short so python is easy.\"\n",
    "punct=\",. \"\n",
    "d={}\n",
    "for i in s:\n",
    "    if i in punct:\n",
    "        continue\n",
    "    #if i not in d.keys():\n",
    "       # d[i]=0\n",
    "    #d[i]+=1\n",
    "    d[i]=d.setdefault(i,0)+1\n",
    "        \n",
    "print(d)    "
   ]
  },
  {
   "cell_type": "code",
   "execution_count": 219,
   "id": "3735c5a5",
   "metadata": {},
   "outputs": [
    {
     "data": {
      "text/plain": [
       "(1, 2, 3, 4)"
      ]
     },
     "execution_count": 219,
     "metadata": {},
     "output_type": "execute_result"
    }
   ],
   "source": [
    "# (1,2,3) 튜플에 값 4를 추가하여 (1,2,3,4)를 만들어 출력\n",
    "(1,2,3)+(4,)"
   ]
  },
  {
   "cell_type": "code",
   "execution_count": 220,
   "id": "25c3611f",
   "metadata": {},
   "outputs": [
    {
     "ename": "TypeError",
     "evalue": "unhashable type: 'list'",
     "output_type": "error",
     "traceback": [
      "\u001b[1;31m---------------------------------------------------------------------------\u001b[0m",
      "\u001b[1;31mTypeError\u001b[0m                                 Traceback (most recent call last)",
      "Input \u001b[1;32mIn [220]\u001b[0m, in \u001b[0;36m<cell line: 4>\u001b[1;34m()\u001b[0m\n\u001b[0;32m      2\u001b[0m a[\u001b[38;5;124m'\u001b[39m\u001b[38;5;124mname\u001b[39m\u001b[38;5;124m'\u001b[39m]\u001b[38;5;241m=\u001b[39m\u001b[38;5;124m'\u001b[39m\u001b[38;5;124mpython\u001b[39m\u001b[38;5;124m'\u001b[39m\n\u001b[0;32m      3\u001b[0m a[(\u001b[38;5;124m'\u001b[39m\u001b[38;5;124ma,\u001b[39m\u001b[38;5;124m'\u001b[39m)]\u001b[38;5;241m=\u001b[39m\u001b[38;5;124m'\u001b[39m\u001b[38;5;124mpython\u001b[39m\u001b[38;5;124m'\u001b[39m\n\u001b[1;32m----> 4\u001b[0m a[[\u001b[38;5;241m1\u001b[39m]]\u001b[38;5;241m=\u001b[39m\u001b[38;5;124m'\u001b[39m\u001b[38;5;124mpython\u001b[39m\u001b[38;5;124m'\u001b[39m\n\u001b[0;32m      5\u001b[0m a[\u001b[38;5;241m250\u001b[39m]\u001b[38;5;241m=\u001b[39m\u001b[38;5;124m'\u001b[39m\u001b[38;5;124mpython\u001b[39m\u001b[38;5;124m'\u001b[39m\n",
      "\u001b[1;31mTypeError\u001b[0m: unhashable type: 'list'"
     ]
    }
   ],
   "source": [
    "# 딕셔너리 a=dict()가 있다 다음중 오료가 발생하는 경우를 고르고 그 이유를 설명\n",
    "a['name']='python'\n",
    "a[('a,')]='python'\n",
    "a[[1]]='python'  #V list에 안들어감\n",
    "a[250]='python'"
   ]
  },
  {
   "cell_type": "code",
   "execution_count": 231,
   "id": "f405c3df",
   "metadata": {},
   "outputs": [
    {
     "data": {
      "text/plain": [
       "{1, 7}"
      ]
     },
     "execution_count": 231,
     "metadata": {},
     "output_type": "execute_result"
    }
   ],
   "source": [
    "set1={1,2,3,4,6,6,7,7}\n",
    "set1.intersection({1,5,7})"
   ]
  },
  {
   "cell_type": "code",
   "execution_count": 233,
   "id": "e556969a",
   "metadata": {},
   "outputs": [
    {
     "ename": "TypeError",
     "evalue": "unhashable type: 'list'",
     "output_type": "error",
     "traceback": [
      "\u001b[1;31m---------------------------------------------------------------------------\u001b[0m",
      "\u001b[1;31mTypeError\u001b[0m                                 Traceback (most recent call last)",
      "Input \u001b[1;32mIn [233]\u001b[0m, in \u001b[0;36m<cell line: 3>\u001b[1;34m()\u001b[0m\n\u001b[0;32m      1\u001b[0m \u001b[38;5;66;03m#리스트 a값에서 중복 숫자 제거\u001b[39;00m\n\u001b[0;32m      2\u001b[0m a\u001b[38;5;241m=\u001b[39m[\u001b[38;5;241m1\u001b[39m,\u001b[38;5;241m1\u001b[39m,\u001b[38;5;241m2\u001b[39m,\u001b[38;5;241m2\u001b[39m,\u001b[38;5;241m3\u001b[39m,\u001b[38;5;241m3\u001b[39m,\u001b[38;5;241m3\u001b[39m,\u001b[38;5;241m4\u001b[39m,\u001b[38;5;241m4\u001b[39m,\u001b[38;5;241m5\u001b[39m]\n\u001b[1;32m----> 3\u001b[0m set1\u001b[38;5;241m=\u001b[39m{a,}\n\u001b[0;32m      4\u001b[0m set1\n",
      "\u001b[1;31mTypeError\u001b[0m: unhashable type: 'list'"
     ]
    }
   ],
   "source": [
    "#리스트 a값에서 중복 숫자 제거\n",
    "a=[1,1,2,2,3,3,3,4,4,5]\n",
    "set1={\n",
    "set1\n"
   ]
  },
  {
   "cell_type": "code",
   "execution_count": 265,
   "id": "361863df",
   "metadata": {},
   "outputs": [
    {
     "name": "stdout",
     "output_type": "stream",
     "text": [
      "False\n"
     ]
    }
   ],
   "source": [
    "#두 단어가 철차의 순서를 바꾸어 놓은 것인지 확인하는 코드블록을 작성하시오\n",
    "s1='google'\n",
    "s2='gouglo'\n",
    "d={}\n",
    "d1={}\n",
    "for i in s1:\n",
    "    d[i]=d.setdefault(i,0)+1\n",
    "for j in s2:\n",
    "    d1[j]=d1.setdefault(j,0)+1\n",
    "print(d==d1)"
   ]
  },
  {
   "cell_type": "code",
   "execution_count": 286,
   "id": "53335019",
   "metadata": {},
   "outputs": [
    {
     "name": "stdout",
     "output_type": "stream",
     "text": [
      "['c', 'd']\n"
     ]
    }
   ],
   "source": [
    "#l1의 요소중  l2의 요소와 값이 같은 경우 삭제하는 코드블록\n",
    "# remove를 사용하면 앞에서부터 삭제되기 때문에 앞으로 밀려 살아남는 현상이 있음 그러므로 뒤에서부터 돌려야함\n",
    "#for j in l1[::-1]:이렇게 뒤에 [::]이것으로 역순으로 해줌\n",
    "l1=[\"a\",\"b\",\"c\",\"d\",\"a\",\"b\",\"a\",\"b\"]\n",
    "l2=[\"b\",\"a\"]\n",
    "for i in l2:\n",
    "    for j in l1[::-1]:\n",
    "        if i==j:\n",
    "            l1.remove(j)\n",
    "print(l1)"
   ]
  },
  {
   "cell_type": "code",
   "execution_count": 285,
   "id": "dc00e83d",
   "metadata": {},
   "outputs": [
    {
     "name": "stdout",
     "output_type": "stream",
     "text": [
      "['c', 'd']\n"
     ]
    }
   ],
   "source": [
    "#l1의 요소중  l2의 요소와 값이 같은 경우 삭제하는 코드블록\n",
    "l1=[\"a\",\"b\",\"c\",\"d\",\"a\",\"b\",\"a\",\"b\"]\n",
    "l2=[\"b\",\"a\"]\n",
    "for i in l1[::-1]:\n",
    "    if i in l2:\n",
    "        l1.remove(i)\n",
    "        \n",
    "print(l1)"
   ]
  },
  {
   "cell_type": "code",
   "execution_count": 287,
   "id": "8bf37b13",
   "metadata": {},
   "outputs": [
    {
     "name": "stdout",
     "output_type": "stream",
     "text": [
      "{1: 2, 3: 4} <class 'dict'>\n"
     ]
    }
   ],
   "source": [
    "d=dict([[1,2],[3,4]])\n",
    "print(d, type(d))"
   ]
  },
  {
   "cell_type": "code",
   "execution_count": 288,
   "id": "3d26e29f",
   "metadata": {},
   "outputs": [
    {
     "name": "stdout",
     "output_type": "stream",
     "text": [
      "{3: 26, 4: 44} <class 'dict'>\n"
     ]
    }
   ],
   "source": [
    "e=dict([(3,26),(4,44)])\n",
    "print(e, type(e))"
   ]
  },
  {
   "cell_type": "code",
   "execution_count": 295,
   "id": "972bc2b8",
   "metadata": {},
   "outputs": [
    {
     "name": "stdout",
     "output_type": "stream",
     "text": [
      "1. number of things: 5\n",
      "2 We have 5 things\n",
      "3. 5 * 2.500000 =12.500000\n",
      "4. 5 * 2.50 = 12.50\n",
      "5. 2.500000 vs. 4 vs. 1.84467e+19\n",
      "6.    5 vs. 0005 \n",
      "7. VAT is 5%\n"
     ]
    }
   ],
   "source": [
    "i=5;f=2.5;g=4.0;h=2**64;s='VAT'\n",
    "print('1. number of things:',i)\n",
    "print('2 We have %i things' % i)\n",
    "print('3. %i * %f =%f' % (i,f,i*f))\n",
    "print('4. %i * %.2f = %.2f' % (i,f,i*f))\n",
    "print('5. %f vs. %g vs. %g' % (f,g,h))\n",
    "print('6. %4i vs. %04i ' % (i,i))\n",
    "print('7. %s is %i%%' % (s,i))"
   ]
  },
  {
   "cell_type": "code",
   "execution_count": 302,
   "id": "988513c8",
   "metadata": {},
   "outputs": [
    {
     "name": "stdout",
     "output_type": "stream",
     "text": [
      "I like apple and banana\n",
      "apple and banana\n",
      "banana and apple\n",
      "야옹이 & 멍멍이\n"
     ]
    }
   ],
   "source": [
    "print('I like {} and {}'.format('apple','banana'))\n",
    "print('{0} and {1}'.format('apple','banana'))\n",
    "print('{1} and {0}'.format('apple','banana'))\n",
    "print('{who} & {who2}'.format(who='야옹이',who2='멍멍이'))"
   ]
  },
  {
   "cell_type": "code",
   "execution_count": 304,
   "id": "7dbc6df1",
   "metadata": {},
   "outputs": [
    {
     "name": "stdout",
     "output_type": "stream",
     "text": [
      "1\n",
      "5\n"
     ]
    }
   ],
   "source": [
    "first, *rest=[1,2,3,4,5]\n",
    "print(first)\n",
    "*first, rest=[1,2,3,4,5]\n",
    "print(rest)"
   ]
  },
  {
   "cell_type": "code",
   "execution_count": 299,
   "id": "1b2a1496",
   "metadata": {},
   "outputs": [
    {
     "name": "stdout",
     "output_type": "stream",
     "text": [
      "banana and apple\n"
     ]
    }
   ],
   "source": []
  },
  {
   "cell_type": "code",
   "execution_count": 301,
   "id": "b5d3ee71",
   "metadata": {},
   "outputs": [
    {
     "name": "stdout",
     "output_type": "stream",
     "text": [
      "야옹이 & 멍멍이\n"
     ]
    }
   ],
   "source": []
  },
  {
   "cell_type": "code",
   "execution_count": null,
   "id": "0356fe8e",
   "metadata": {},
   "outputs": [],
   "source": []
  }
 ],
 "metadata": {
  "kernelspec": {
   "display_name": "Python 3 (ipykernel)",
   "language": "python",
   "name": "python3"
  },
  "language_info": {
   "codemirror_mode": {
    "name": "ipython",
    "version": 3
   },
   "file_extension": ".py",
   "mimetype": "text/x-python",
   "name": "python",
   "nbconvert_exporter": "python",
   "pygments_lexer": "ipython3",
   "version": "3.8.13"
  }
 },
 "nbformat": 4,
 "nbformat_minor": 5
}
