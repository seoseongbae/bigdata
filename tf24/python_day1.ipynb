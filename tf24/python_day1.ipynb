{
 "cells": [
  {
   "cell_type": "markdown",
   "id": "b62a00bc",
   "metadata": {},
   "source": [
    "파이썬 코딩 첫날"
   ]
  },
  {
   "cell_type": "code",
   "execution_count": 1,
   "id": "50cf2daa",
   "metadata": {},
   "outputs": [
    {
     "data": {
      "text/plain": [
       "4"
      ]
     },
     "execution_count": 1,
     "metadata": {},
     "output_type": "execute_result"
    }
   ],
   "source": [
    "2+2 #\n"
   ]
  },
  {
   "cell_type": "code",
   "execution_count": 3,
   "id": "4919f576",
   "metadata": {},
   "outputs": [
    {
     "data": {
      "text/plain": [
       "5"
      ]
     },
     "execution_count": 3,
     "metadata": {},
     "output_type": "execute_result"
    }
   ],
   "source": [
    "2+3"
   ]
  },
  {
   "cell_type": "code",
   "execution_count": null,
   "id": "3326dc11",
   "metadata": {},
   "outputs": [],
   "source": []
  },
  {
   "cell_type": "markdown",
   "id": "6369ac74",
   "metadata": {},
   "source": []
  },
  {
   "cell_type": "code",
   "execution_count": 4,
   "id": "531d807c",
   "metadata": {},
   "outputs": [],
   "source": [
    "a=3"
   ]
  },
  {
   "cell_type": "code",
   "execution_count": null,
   "id": "0a43480e",
   "metadata": {},
   "outputs": [],
   "source": []
  },
  {
   "cell_type": "code",
   "execution_count": 5,
   "id": "3bc5691b",
   "metadata": {},
   "outputs": [
    {
     "data": {
      "text/plain": [
       "5"
      ]
     },
     "execution_count": 5,
     "metadata": {},
     "output_type": "execute_result"
    }
   ],
   "source": [
    "a=3\n",
    "a+2"
   ]
  },
  {
   "cell_type": "code",
   "execution_count": 6,
   "id": "f600c370",
   "metadata": {},
   "outputs": [
    {
     "data": {
      "text/plain": [
       "10"
      ]
     },
     "execution_count": 6,
     "metadata": {},
     "output_type": "execute_result"
    }
   ],
   "source": [
    "a=3\n",
    "a+2;\n",
    "a+7"
   ]
  },
  {
   "cell_type": "code",
   "execution_count": 7,
   "id": "f9ce1b6d",
   "metadata": {},
   "outputs": [
    {
     "name": "stdout",
     "output_type": "stream",
     "text": [
      "a:100\n"
     ]
    }
   ],
   "source": [
    "a= input(\"a:\")"
   ]
  },
  {
   "cell_type": "code",
   "execution_count": 8,
   "id": "cdd4b7e1",
   "metadata": {},
   "outputs": [
    {
     "name": "stdout",
     "output_type": "stream",
     "text": [
      "100\n"
     ]
    }
   ],
   "source": [
    "print(a)"
   ]
  },
  {
   "cell_type": "code",
   "execution_count": null,
   "id": "1169273c",
   "metadata": {},
   "outputs": [],
   "source": []
  },
  {
   "cell_type": "code",
   "execution_count": null,
   "id": "9f2c1e52",
   "metadata": {},
   "outputs": [],
   "source": []
  },
  {
   "cell_type": "code",
   "execution_count": 9,
   "id": "4eaf0e00",
   "metadata": {},
   "outputs": [
    {
     "data": {
      "text/plain": [
       "'100'"
      ]
     },
     "execution_count": 9,
     "metadata": {},
     "output_type": "execute_result"
    }
   ],
   "source": [
    "a"
   ]
  },
  {
   "cell_type": "code",
   "execution_count": 10,
   "id": "3ab1f820",
   "metadata": {},
   "outputs": [
    {
     "data": {
      "text/plain": [
       "str"
      ]
     },
     "execution_count": 10,
     "metadata": {},
     "output_type": "execute_result"
    }
   ],
   "source": [
    "type(a)"
   ]
  },
  {
   "cell_type": "code",
   "execution_count": 11,
   "id": "0eae9be4",
   "metadata": {},
   "outputs": [],
   "source": [
    "a=100"
   ]
  },
  {
   "cell_type": "code",
   "execution_count": 12,
   "id": "cbf3e5dc",
   "metadata": {},
   "outputs": [
    {
     "data": {
      "text/plain": [
       "int"
      ]
     },
     "execution_count": 12,
     "metadata": {},
     "output_type": "execute_result"
    }
   ],
   "source": [
    "type(a)"
   ]
  },
  {
   "cell_type": "code",
   "execution_count": 13,
   "id": "2af6c66a",
   "metadata": {},
   "outputs": [
    {
     "name": "stdout",
     "output_type": "stream",
     "text": [
      "2.5 <class 'float'>\n"
     ]
    }
   ],
   "source": [
    "f=2.5\n",
    "print(f,type(f))"
   ]
  },
  {
   "cell_type": "code",
   "execution_count": 15,
   "id": "378eb128",
   "metadata": {},
   "outputs": [],
   "source": [
    "f=int(f)"
   ]
  },
  {
   "cell_type": "code",
   "execution_count": 16,
   "id": "02d9ee0e",
   "metadata": {},
   "outputs": [
    {
     "name": "stdout",
     "output_type": "stream",
     "text": [
      "words <class 'str'>\n"
     ]
    },
    {
     "data": {
      "text/plain": [
       "'words'"
      ]
     },
     "execution_count": 16,
     "metadata": {},
     "output_type": "execute_result"
    }
   ],
   "source": [
    "f='words'\n",
    "print(f,type(f))\n",
    "f"
   ]
  },
  {
   "cell_type": "code",
   "execution_count": 18,
   "id": "71a9dc46",
   "metadata": {},
   "outputs": [
    {
     "ename": "ValueError",
     "evalue": "could not convert string to float: 'words'",
     "output_type": "error",
     "traceback": [
      "\u001b[1;31m---------------------------------------------------------------------------\u001b[0m",
      "\u001b[1;31mValueError\u001b[0m                                Traceback (most recent call last)",
      "Input \u001b[1;32mIn [18]\u001b[0m, in \u001b[0;36m<cell line: 1>\u001b[1;34m()\u001b[0m\n\u001b[1;32m----> 1\u001b[0m \u001b[38;5;28;43mfloat\u001b[39;49m\u001b[43m(\u001b[49m\u001b[43mf\u001b[49m\u001b[43m)\u001b[49m\n",
      "\u001b[1;31mValueError\u001b[0m: could not convert string to float: 'words'"
     ]
    }
   ],
   "source": [
    "float(f)"
   ]
  },
  {
   "cell_type": "code",
   "execution_count": 20,
   "id": "c52ccc72",
   "metadata": {},
   "outputs": [
    {
     "ename": "TypeError",
     "evalue": "can only concatenate str (not \"int\") to str",
     "output_type": "error",
     "traceback": [
      "\u001b[1;31m---------------------------------------------------------------------------\u001b[0m",
      "\u001b[1;31mTypeError\u001b[0m                                 Traceback (most recent call last)",
      "Input \u001b[1;32mIn [20]\u001b[0m, in \u001b[0;36m<cell line: 1>\u001b[1;34m()\u001b[0m\n\u001b[1;32m----> 1\u001b[0m \u001b[43mf\u001b[49m\u001b[38;5;241;43m+\u001b[39;49m\u001b[38;5;241;43m2\u001b[39;49m\n",
      "\u001b[1;31mTypeError\u001b[0m: can only concatenate str (not \"int\") to str"
     ]
    }
   ],
   "source": [
    "f+2"
   ]
  },
  {
   "cell_type": "code",
   "execution_count": 24,
   "id": "c7061955",
   "metadata": {},
   "outputs": [
    {
     "data": {
      "text/plain": [
       "34.0"
      ]
     },
     "execution_count": 24,
     "metadata": {},
     "output_type": "execute_result"
    }
   ],
   "source": [
    "float(\"34.0\")"
   ]
  },
  {
   "cell_type": "code",
   "execution_count": 28,
   "id": "b75b4ebb",
   "metadata": {},
   "outputs": [
    {
     "data": {
      "text/plain": [
       "5"
      ]
     },
     "execution_count": 28,
     "metadata": {},
     "output_type": "execute_result"
    }
   ],
   "source": [
    "a=3;b=2;a+b"
   ]
  },
  {
   "cell_type": "code",
   "execution_count": 31,
   "id": "4f9dd7df",
   "metadata": {},
   "outputs": [],
   "source": [
    "import sys, os"
   ]
  },
  {
   "cell_type": "code",
   "execution_count": 34,
   "id": "98140545",
   "metadata": {},
   "outputs": [
    {
     "data": {
      "text/plain": [
       "'win32'"
      ]
     },
     "execution_count": 34,
     "metadata": {},
     "output_type": "execute_result"
    }
   ],
   "source": [
    "sys.platform\n"
   ]
  },
  {
   "cell_type": "code",
   "execution_count": 37,
   "id": "b13c7740",
   "metadata": {},
   "outputs": [
    {
     "name": "stdout",
     "output_type": "stream",
     "text": [
      "Help on built-in function print in module builtins:\n",
      "\n",
      "print(...)\n",
      "    print(value, ..., sep=' ', end='\\n', file=sys.stdout, flush=False)\n",
      "    \n",
      "    Prints the values to a stream, or to sys.stdout by default.\n",
      "    Optional keyword arguments:\n",
      "    file:  a file-like object (stream); defaults to the current sys.stdout.\n",
      "    sep:   string inserted between values, default a space.\n",
      "    end:   string appended after the last value, default a newline.\n",
      "    flush: whether to forcibly flush the stream.\n",
      "\n"
     ]
    }
   ],
   "source": [
    "help(\"print\")"
   ]
  },
  {
   "cell_type": "code",
   "execution_count": 38,
   "id": "f32ac052",
   "metadata": {},
   "outputs": [
    {
     "data": {
      "text/plain": [
       "(3, 1)"
      ]
     },
     "execution_count": 38,
     "metadata": {},
     "output_type": "execute_result"
    }
   ],
   "source": [
    "a=3.0\n",
    "a.as_integer_ratio()"
   ]
  },
  {
   "cell_type": "code",
   "execution_count": 39,
   "id": "5d4fc683",
   "metadata": {},
   "outputs": [
    {
     "ename": "SyntaxError",
     "evalue": "invalid syntax (1576952812.py, line 1)",
     "output_type": "error",
     "traceback": [
      "\u001b[1;36m  Input \u001b[1;32mIn [39]\u001b[1;36m\u001b[0m\n\u001b[1;33m    b=[1,,3]\u001b[0m\n\u001b[1;37m         ^\u001b[0m\n\u001b[1;31mSyntaxError\u001b[0m\u001b[1;31m:\u001b[0m invalid syntax\n"
     ]
    }
   ],
   "source": [
    "b=[1,,3]"
   ]
  },
  {
   "cell_type": "code",
   "execution_count": 40,
   "id": "be5c4ed3",
   "metadata": {},
   "outputs": [],
   "source": [
    "b=[1,2,3]"
   ]
  },
  {
   "cell_type": "code",
   "execution_count": 41,
   "id": "86db30f1",
   "metadata": {},
   "outputs": [
    {
     "name": "stdout",
     "output_type": "stream",
     "text": [
      "[1, 2, 3, 'bb']\n"
     ]
    }
   ],
   "source": [
    "b.append(\"bb\")\n",
    "print(b)"
   ]
  },
  {
   "cell_type": "code",
   "execution_count": 42,
   "id": "d5f5d297",
   "metadata": {},
   "outputs": [
    {
     "ename": "NameError",
     "evalue": "name 'n' is not defined",
     "output_type": "error",
     "traceback": [
      "\u001b[1;31m---------------------------------------------------------------------------\u001b[0m",
      "\u001b[1;31mNameError\u001b[0m                                 Traceback (most recent call last)",
      "Input \u001b[1;32mIn [42]\u001b[0m, in \u001b[0;36m<cell line: 1>\u001b[1;34m()\u001b[0m\n\u001b[1;32m----> 1\u001b[0m a\u001b[38;5;241m=\u001b[39m\u001b[38;5;241m1\u001b[39m;b\u001b[38;5;241m=\u001b[39m\u001b[38;5;241m2\u001b[39m; \u001b[38;5;28mprint\u001b[39m(a\u001b[38;5;241m/\u001b[39m\u001b[43mn\u001b[49m,a)\n",
      "\u001b[1;31mNameError\u001b[0m: name 'n' is not defined"
     ]
    }
   ],
   "source": [
    "a=1;b=2; print(a/n,a)"
   ]
  },
  {
   "cell_type": "code",
   "execution_count": null,
   "id": "5837d265",
   "metadata": {},
   "outputs": [],
   "source": []
  },
  {
   "cell_type": "code",
   "execution_count": 44,
   "id": "cf112b0c",
   "metadata": {},
   "outputs": [
    {
     "ename": "NameError",
     "evalue": "name 'ab' is not defined",
     "output_type": "error",
     "traceback": [
      "\u001b[1;31m---------------------------------------------------------------------------\u001b[0m",
      "\u001b[1;31mNameError\u001b[0m                                 Traceback (most recent call last)",
      "Input \u001b[1;32mIn [44]\u001b[0m, in \u001b[0;36m<cell line: 1>\u001b[1;34m()\u001b[0m\n\u001b[1;32m----> 1\u001b[0m a\u001b[38;5;241m=\u001b[39m\u001b[38;5;241m1\u001b[39m;b\u001b[38;5;241m=\u001b[39m\u001b[38;5;241m2\u001b[39m; \u001b[38;5;28mprint\u001b[39m(a\u001b[38;5;241m/\u001b[39mb,\u001b[43mab\u001b[49m,a\u001b[38;5;241m%\u001b[39mb)\n",
      "\u001b[1;31mNameError\u001b[0m: name 'ab' is not defined"
     ]
    }
   ],
   "source": [
    "a=1;b=2; print(a/b,ab,a%b)"
   ]
  },
  {
   "cell_type": "code",
   "execution_count": 67,
   "id": "da85004b",
   "metadata": {},
   "outputs": [
    {
     "name": "stdout",
     "output_type": "stream",
     "text": [
      "True 0.8999999999999999\n"
     ]
    }
   ],
   "source": [
    "a=0.3;b=0.6;print(round(a+b,10)==0.9,a+b)"
   ]
  },
  {
   "cell_type": "code",
   "execution_count": 69,
   "id": "bcc92e1b",
   "metadata": {},
   "outputs": [
    {
     "name": "stdout",
     "output_type": "stream",
     "text": [
      "1.0 -1.5\n"
     ]
    }
   ],
   "source": [
    "a=2;b=-1;c=-3;\n",
    "x1=(-1+((b**2-(4*a*c))**0.5))/(2*a)\n",
    "x2=(-1-((b**2)-(4*a*c))**0.5)/(2*a)\n",
    "print(x1,x2)"
   ]
  },
  {
   "cell_type": "code",
   "execution_count": 74,
   "id": "241a53de",
   "metadata": {},
   "outputs": [],
   "source": [
    "import math"
   ]
  },
  {
   "cell_type": "code",
   "execution_count": null,
   "id": "b48fe2a3",
   "metadata": {},
   "outputs": [],
   "source": []
  },
  {
   "cell_type": "code",
   "execution_count": null,
   "id": "1682a7be",
   "metadata": {},
   "outputs": [],
   "source": [
    "a=2;b=-1;c=-3;"
   ]
  },
  {
   "cell_type": "code",
   "execution_count": 80,
   "id": "1a00cf28",
   "metadata": {},
   "outputs": [
    {
     "name": "stdout",
     "output_type": "stream",
     "text": [
      "1.0\n"
     ]
    }
   ],
   "source": [
    "x1=(-1+math.sqrt(b**2-(4*a*c)))/(2*a)\n",
    "print(x1)"
   ]
  },
  {
   "cell_type": "code",
   "execution_count": null,
   "id": "ce43229d",
   "metadata": {},
   "outputs": [],
   "source": []
  },
  {
   "cell_type": "code",
   "execution_count": 82,
   "id": "b0c576c1",
   "metadata": {},
   "outputs": [
    {
     "name": "stdout",
     "output_type": "stream",
     "text": [
      "국어점수 = 80\n"
     ]
    }
   ],
   "source": [
    "국어=input(\"국어점수 = \")"
   ]
  },
  {
   "cell_type": "code",
   "execution_count": null,
   "id": "a563d0d9",
   "metadata": {},
   "outputs": [],
   "source": [
    "국어=input(\"국어점수 = \")"
   ]
  },
  {
   "cell_type": "code",
   "execution_count": 83,
   "id": "d1437414",
   "metadata": {},
   "outputs": [
    {
     "name": "stdout",
     "output_type": "stream",
     "text": [
      "국어점수 = 80\n"
     ]
    }
   ],
   "source": [
    "국어=input(\"국어점수 = \")"
   ]
  },
  {
   "cell_type": "code",
   "execution_count": 86,
   "id": "22745eab",
   "metadata": {},
   "outputs": [
    {
     "name": "stdout",
     "output_type": "stream",
     "text": [
      "수학점수 = 55\n"
     ]
    }
   ],
   "source": [
    "수학=input(\"수학점수 = \")"
   ]
  },
  {
   "cell_type": "code",
   "execution_count": 88,
   "id": "527276d3",
   "metadata": {},
   "outputs": [
    {
     "name": "stdout",
     "output_type": "stream",
     "text": [
      "영어점수 = 75\n"
     ]
    }
   ],
   "source": [
    "영어=input(\"영어점수 = \")"
   ]
  },
  {
   "cell_type": "code",
   "execution_count": 90,
   "id": "ac108e69",
   "metadata": {},
   "outputs": [
    {
     "name": "stdout",
     "output_type": "stream",
     "text": [
      "80 75 55\n"
     ]
    }
   ],
   "source": [
    "print(국어,영어,수학)"
   ]
  },
  {
   "cell_type": "code",
   "execution_count": 91,
   "id": "3cdef745",
   "metadata": {},
   "outputs": [
    {
     "data": {
      "text/plain": [
       "str"
      ]
     },
     "execution_count": 91,
     "metadata": {},
     "output_type": "execute_result"
    }
   ],
   "source": [
    "type(국어)"
   ]
  },
  {
   "cell_type": "code",
   "execution_count": 93,
   "id": "14e8548a",
   "metadata": {},
   "outputs": [],
   "source": [
    "국어=float(국어)\n",
    "수학=float(수학)\n",
    "영어=float(영어)"
   ]
  },
  {
   "cell_type": "code",
   "execution_count": 96,
   "id": "274df8e0",
   "metadata": {},
   "outputs": [
    {
     "name": "stdout",
     "output_type": "stream",
     "text": [
      "80.0 75.0 55.0\n"
     ]
    }
   ],
   "source": [
    "print(국어,영어,수학)"
   ]
  },
  {
   "cell_type": "code",
   "execution_count": 97,
   "id": "3d4e7d67",
   "metadata": {},
   "outputs": [],
   "source": [
    "sum=국어+영어+수학"
   ]
  },
  {
   "cell_type": "code",
   "execution_count": 98,
   "id": "864e107d",
   "metadata": {},
   "outputs": [],
   "source": [
    "sum/=3"
   ]
  },
  {
   "cell_type": "code",
   "execution_count": 99,
   "id": "6b21f718",
   "metadata": {},
   "outputs": [
    {
     "name": "stdout",
     "output_type": "stream",
     "text": [
      "70.0\n"
     ]
    }
   ],
   "source": [
    "print(sum)"
   ]
  },
  {
   "cell_type": "code",
   "execution_count": 100,
   "id": "265227bd",
   "metadata": {},
   "outputs": [
    {
     "name": "stdout",
     "output_type": "stream",
     "text": [
      "70.0\n"
     ]
    }
   ],
   "source": [
    "print(round(sum,1))"
   ]
  },
  {
   "cell_type": "code",
   "execution_count": 101,
   "id": "0a3a49ab",
   "metadata": {},
   "outputs": [
    {
     "name": "stdout",
     "output_type": "stream",
     "text": [
      "True\n"
     ]
    }
   ],
   "source": [
    "if 13%2==1:\n",
    "    print(True)\n",
    "else:\n",
    "    print(False)"
   ]
  },
  {
   "cell_type": "code",
   "execution_count": 104,
   "id": "d56b24d8",
   "metadata": {},
   "outputs": [
    {
     "name": "stdout",
     "output_type": "stream",
     "text": [
      "22\n",
      "False\n"
     ]
    }
   ],
   "source": [
    "num=input()\n",
    "num=int(num)\n",
    "if num%2==1:\n",
    "    print(True)\n",
    "else:\n",
    "    print(False)"
   ]
  },
  {
   "cell_type": "code",
   "execution_count": 123,
   "id": "79dca7a2",
   "metadata": {},
   "outputs": [
    {
     "name": "stdout",
     "output_type": "stream",
     "text": [
      "35\n",
      "너무 더워요. 나가지 마세요\n"
     ]
    }
   ],
   "source": [
    "t=input()\n",
    "t=int(t)\n",
    "if t>=30:\n",
    "    print(\"너무 더워요. 나가지 마세요\")\n",
    "elif t>=10:\n",
    "    print(\"괜찮은 날씨에요\")\n",
    "elif t>=0:\n",
    "    print(\"외투를 챙기세요\")\n",
    "else:\n",
    "    print(\"너무 추워요. 나가지마세요\")\n"
   ]
  },
  {
   "cell_type": "code",
   "execution_count": 124,
   "id": "1dc332a5",
   "metadata": {},
   "outputs": [
    {
     "name": "stdout",
     "output_type": "stream",
     "text": [
      "apple\n",
      "watermelon\n",
      "peach\n",
      "pear\n"
     ]
    }
   ],
   "source": [
    "fruit=['apple','watermelon','peach','pear']\n",
    "for i in fruit:\n",
    "    print(i)"
   ]
  },
  {
   "cell_type": "code",
   "execution_count": 126,
   "id": "62482daf",
   "metadata": {},
   "outputs": [
    {
     "name": "stdout",
     "output_type": "stream",
     "text": [
      "[0, 1, 2, 3, 4, 5, 6, 7]\n",
      "[2, 3, 4, 5, 6, 7]\n",
      "[10, 30, 50, 70, 90, 110, 130, 150, 170, 190]\n"
     ]
    }
   ],
   "source": [
    "a=list(range(8))\n",
    "b=list(range(2,8))\n",
    "c=list(range(10,200,20))\n",
    "print(a)\n",
    "print(b)\n",
    "print(c)"
   ]
  },
  {
   "cell_type": "code",
   "execution_count": 135,
   "id": "f6e9c73e",
   "metadata": {},
   "outputs": [
    {
     "name": "stdout",
     "output_type": "stream",
     "text": [
      "2 * 1 = \t 2\n",
      "2 * 2 = \t 4\n",
      "2 * 3 = \t 6\n",
      "2 * 4 = \t 8\n",
      "2 * 5 = \t 10\n",
      "2 * 6 = \t 12\n",
      "2 * 7 = \t 14\n",
      "2 * 8 = \t 16\n",
      "2 * 9 = \t 18\n",
      "4 * 1 = \t 4\n",
      "4 * 2 = \t 8\n",
      "4 * 3 = \t 12\n",
      "4 * 4 = \t 16\n",
      "4 * 5 = \t 20\n",
      "4 * 6 = \t 24\n",
      "4 * 7 = \t 28\n",
      "4 * 8 = \t 32\n",
      "4 * 9 = \t 36\n",
      "6 * 1 = \t 6\n",
      "6 * 2 = \t 12\n",
      "6 * 3 = \t 18\n",
      "6 * 4 = \t 24\n",
      "6 * 5 = \t 30\n",
      "6 * 6 = \t 36\n",
      "6 * 7 = \t 42\n",
      "6 * 8 = \t 48\n",
      "6 * 9 = \t 54\n",
      "8 * 1 = \t 8\n",
      "8 * 2 = \t 16\n",
      "8 * 3 = \t 24\n",
      "8 * 4 = \t 32\n",
      "8 * 5 = \t 40\n",
      "8 * 6 = \t 48\n",
      "8 * 7 = \t 56\n",
      "8 * 8 = \t 64\n",
      "8 * 9 = \t 72\n"
     ]
    }
   ],
   "source": [
    "for i in range(2,10,2):\n",
    "    for j in range(1,10):\n",
    "        print('%d * %d = \\t %d' % (i,j,i*j))"
   ]
  },
  {
   "cell_type": "code",
   "execution_count": null,
   "id": "1ed9f314",
   "metadata": {},
   "outputs": [],
   "source": [
    "\"\""
   ]
  }
 ],
 "metadata": {
  "kernelspec": {
   "display_name": "Python 3 (ipykernel)",
   "language": "python",
   "name": "python3"
  },
  "language_info": {
   "codemirror_mode": {
    "name": "ipython",
    "version": 3
   },
   "file_extension": ".py",
   "mimetype": "text/x-python",
   "name": "python",
   "nbconvert_exporter": "python",
   "pygments_lexer": "ipython3",
   "version": "3.8.13"
  }
 },
 "nbformat": 4,
 "nbformat_minor": 5
}
