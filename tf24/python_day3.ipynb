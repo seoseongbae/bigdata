{
 "cells": [
  {
   "cell_type": "code",
   "execution_count": 2,
   "id": "2b07651d",
   "metadata": {},
   "outputs": [
    {
     "name": "stdout",
     "output_type": "stream",
     "text": [
      "!상세 녕안"
     ]
    }
   ],
   "source": [
    "n='안녕 세상!'\n",
    "for i in n[::-1]:\n",
    "    print(i,end=\"\")"
   ]
  },
  {
   "cell_type": "code",
   "execution_count": 14,
   "id": "b437614a",
   "metadata": {},
   "outputs": [
    {
     "name": "stdout",
     "output_type": "stream",
     "text": [
      "재미있다. 정말 알고리즘 파이썬 "
     ]
    }
   ],
   "source": [
    "n='파이썬 알고리즘 정말 재미있다.'\n",
    "n=n.split(\" \")\n",
    "for i in n[::-1]:\n",
    "    print(i, end=\" \")"
   ]
  },
  {
   "cell_type": "code",
   "execution_count": 48,
   "id": "64bb8e73",
   "metadata": {},
   "outputs": [
    {
     "data": {
      "text/plain": [
       "'a2b1c4a3'"
      ]
     },
     "execution_count": 48,
     "metadata": {},
     "output_type": "execute_result"
    }
   ],
   "source": [
    "n=\"aabccccaaa\"  ##다시 생각해보기\n",
    "count=1\n",
    "last=''\n",
    "list_aux=[]\n",
    "for i,c in enumerate(n):\n",
    "    if last==c:\n",
    "        count+=1\n",
    "    else:\n",
    "        if i!=0:\n",
    "            list_aux.append(str(count))\n",
    "        list_aux.append(c)\n",
    "        count=1\n",
    "        last=c\n",
    "        \n",
    "list_aux.append(str(count))\n",
    "''.join(list_aux)"
   ]
  },
  {
   "cell_type": "code",
   "execution_count": 41,
   "id": "801ae503",
   "metadata": {},
   "outputs": [
    {
     "data": {
      "text/plain": [
       "True"
      ]
     },
     "execution_count": 41,
     "metadata": {},
     "output_type": "execute_result"
    }
   ],
   "source": [
    "#회문여부 판별\n",
    "n='다시 합창합시다'\n",
    "s1=''.join(n.split())\n",
    "s1==s1[::-1]"
   ]
  },
  {
   "cell_type": "code",
   "execution_count": 56,
   "id": "8b4de31d",
   "metadata": {},
   "outputs": [
    {
     "name": "stdout",
     "output_type": "stream",
     "text": [
      "Counter({5: 4, 1: 3, 2: 3, 3: 1, 4: 1})\n",
      "Counter({1: 4, 2: 4, 5: 4, 3: 2, 4: 1})\n",
      "Counter({1: 5, 2: 4, 5: 4, 3: 3, 4: 2})\n"
     ]
    }
   ],
   "source": [
    "from collections import Counter\n",
    "seq1=[1,2,3,5,1,2,5,5,2,5,1,4]\n",
    "seq_counts=Counter(seq1)\n",
    "print(seq_counts)\n",
    "seq2=[1,2,3]\n",
    "seq_counts.update(seq2)\n",
    "print(seq_counts)\n",
    "seq3=[1,4,3]\n",
    "for key in seq3: #0을 품고있다가 새로운게 들어오면 에러가 안나게 1로 업데이터 시켜줌\n",
    "    seq_counts[key]+=1\n",
    "print(seq_counts)"
   ]
  },
  {
   "cell_type": "code",
   "execution_count": 58,
   "id": "308700ea",
   "metadata": {},
   "outputs": [
    {
     "name": "stdout",
     "output_type": "stream",
     "text": [
      "Counter({1: 5, 2: 4, 5: 4, 3: 3, 4: 2})\n",
      "Counter({1: 1, 4: 1, 3: 1})\n",
      "Counter({1: 6, 2: 4, 3: 4, 5: 4, 4: 3})\n",
      "Counter({1: 4, 2: 4, 5: 4, 3: 2, 4: 1})\n"
     ]
    }
   ],
   "source": [
    "seq_counts_2=Counter(seq3)      #counts끼리는 연산이 됨\n",
    "print(seq_counts)\n",
    "print(seq_counts_2)\n",
    "print(seq_counts+seq_counts_2)\n",
    "print(seq_counts-seq_counts_2)"
   ]
  },
  {
   "cell_type": "code",
   "execution_count": 62,
   "id": "fc478e46",
   "metadata": {},
   "outputs": [
    {
     "data": {
      "text/plain": [
       "defaultdict(int, {'b': 0})"
      ]
     },
     "execution_count": 62,
     "metadata": {},
     "output_type": "execute_result"
    }
   ],
   "source": [
    "from collections import defaultdict  ##defaultdict 초기값을 설정해준다.\n",
    "d_dict = defaultdict(int)\n",
    "d_dict[\"a\"]\n",
    "d_dict"
   ]
  },
  {
   "cell_type": "code",
   "execution_count": 63,
   "id": "8210d935",
   "metadata": {},
   "outputs": [
    {
     "data": {
      "text/plain": [
       "defaultdict(int, {'a': 10})"
      ]
     },
     "execution_count": 63,
     "metadata": {},
     "output_type": "execute_result"
    }
   ],
   "source": [
    "d_dict = defaultdict(int)\n",
    "d_dict[\"a\"]+=10\n",
    "d_dict"
   ]
  },
  {
   "cell_type": "code",
   "execution_count": 67,
   "id": "9cdf608b",
   "metadata": {},
   "outputs": [
    {
     "data": {
      "text/plain": [
       "-1"
      ]
     },
     "execution_count": 67,
     "metadata": {},
     "output_type": "execute_result"
    }
   ],
   "source": [
    "d_dict = defaultdict(lambda:-1)\n",
    "d_dict[\"a\"]"
   ]
  },
  {
   "cell_type": "code",
   "execution_count": 68,
   "id": "fb8ddc1b",
   "metadata": {},
   "outputs": [
    {
     "data": {
      "text/plain": [
       "[]"
      ]
     },
     "execution_count": 68,
     "metadata": {},
     "output_type": "execute_result"
    }
   ],
   "source": [
    "L_dict=defaultdict(list)\n",
    "L_dict[\"a\"]"
   ]
  },
  {
   "cell_type": "code",
   "execution_count": 72,
   "id": "242579d7",
   "metadata": {},
   "outputs": [
    {
     "name": "stdout",
     "output_type": "stream",
     "text": [
      "Hi\n",
      "None\n"
     ]
    }
   ],
   "source": [
    "def say():\n",
    "    print ('Hi')\n",
    "a=say()\n",
    "print(a)"
   ]
  },
  {
   "cell_type": "code",
   "execution_count": 73,
   "id": "f81930ff",
   "metadata": {},
   "outputs": [
    {
     "name": "stdout",
     "output_type": "stream",
     "text": [
      "3, 4의 합은 7입니다.\n"
     ]
    }
   ],
   "source": [
    "def sum(a,b):\n",
    "    print(\"%d, %d의 합은 %d입니다.\" %(a,b,a+b))\n",
    "sum(3,4)"
   ]
  },
  {
   "cell_type": "code",
   "execution_count": 79,
   "id": "989dc987",
   "metadata": {},
   "outputs": [
    {
     "name": "stdout",
     "output_type": "stream",
     "text": [
      "입금이 완료되었습니다. 잔액은 1000 원입니다\n",
      "출금이 완료되지 않았습니다. 잔액은 1000 원입니다.\n",
      "출금이 완료되었습니다. 잔액은 500 원입니다.\n",
      "500\n"
     ]
    }
   ],
   "source": [
    "def open_account():\n",
    "    print(\"새로운 계좌가 생성되었습니다.\")\n",
    "#open_account()\n",
    "def deposit(balance,money):\n",
    "    print(\"입금이 완료되었습니다. 잔액은 {0} 원입니다\".format(balance+money))\n",
    "    return balance+money\n",
    "#d=deposit(1000,500)\n",
    "#d\n",
    "\n",
    "def withdraw(balance, money):\n",
    "    if balance >=money:\n",
    "        print(\"출금이 완료되었습니다. 잔액은 {0} 원입니다.\".format(balance-money))\n",
    "        return balance-money\n",
    "    else:\n",
    "        print(\"출금이 완료되지 않았습니다. 잔액은 {0} 원입니다.\".format(balance))\n",
    "        return balance\n",
    "#balance=0\n",
    "#balance=deposit(balance,1000)\n",
    "\n",
    "#balance=withdraw(balance,2000)\n",
    "#balance=withdraw(balance,500)\n",
    "#print(balance)\n",
    "\n",
    "def withdraw_night(balance, money): \n",
    "    commission = 100 \n",
    "    return commission, balance - money - commission \n",
    "if __name__=\"__main__\"\n",
    "balance = 0 \n",
    "balance = deposit(balance, 1000) \n",
    "\n",
    "commission, balance = withdraw_night(balance, 500)\n",
    "print(\"수수료 {0} 원이며, 잔액은 {1} 원입니다.\".format(commission, balance)"
   ]
  },
  {
   "cell_type": "code",
   "execution_count": 1,
   "id": "25b7582c",
   "metadata": {},
   "outputs": [],
   "source": [
    "import bank"
   ]
  },
  {
   "cell_type": "code",
   "execution_count": 2,
   "id": "5e91b8e4",
   "metadata": {},
   "outputs": [
    {
     "name": "stdout",
     "output_type": "stream",
     "text": [
      "새로운 계좌가 생성되었습니다.\n"
     ]
    }
   ],
   "source": [
    "bank.open_account()"
   ]
  },
  {
   "cell_type": "code",
   "execution_count": 3,
   "id": "8a8be5b9",
   "metadata": {},
   "outputs": [
    {
     "name": "stdout",
     "output_type": "stream",
     "text": [
      "새로운 계좌가 생성되었습니다.\n"
     ]
    }
   ],
   "source": [
    "from bank import open_account\n",
    "open_account()"
   ]
  },
  {
   "cell_type": "code",
   "execution_count": 9,
   "id": "671d970e",
   "metadata": {},
   "outputs": [
    {
     "name": "stdout",
     "output_type": "stream",
     "text": [
      "이름 : 김은연\t나이 : 20\t주 사용 언어 : 파이썬\n",
      "이름 : 백설희\t나이 : 25\t주 사용 언어 : 자바\n",
      "이름 : 김은연\t나이 : 17\t주 사용 언어 : 파이썬\n",
      "이름 : 김은연\t나이 : 20\t주 사용 언어 : 파이썬\n",
      "이름 : 김은연\t나이 : 20\t주 사용 언어 : 파이썬\n"
     ]
    }
   ],
   "source": [
    "def profile(name, age, main_lang):\n",
    "    print(\"이름 : {0}\\t나이 : {1}\\t주 사용 언어 : {2}\".format(name, age, main_lang)) \n",
    "\n",
    "profile(\"김은연\", 20, \"파이썬\") # 김은연씨(20세)의 주 사용 언어는 파이썬\n",
    "profile(\"백설희\", 25, \"자바\") # 백설의씨(25세)의 주 사용 언어는 자바\n",
    "\n",
    "def profile(name, age=17, main_lang=\"파이썬\"): \n",
    "    # 전달값을 따로 받지 않을 때 기본으로 사용할 값\n",
    "    print(\"이름 : {0}\\t나이 : {1}\\t주 사용 언어 : {2}\".format(name, age, main_lang))\n",
    "profile(\"김은연\") # age, main_lang 을 기본값으로 사용\n",
    "profile(\"김은연\", 20) # main_lang 을 기본값으로 사용\n",
    "profile(\"김은연\", 20, \"파이썬\") # 기본값 사용하지 않음\n"
   ]
  },
  {
   "cell_type": "code",
   "execution_count": 13,
   "id": "fb966ef5",
   "metadata": {},
   "outputs": [
    {
     "name": "stdout",
     "output_type": "stream",
     "text": [
      "이름 : 서성배\t나이 : 24\tPython Java C C++ javaScript \n",
      "이름 : 서성배\t나이 : 24\tKotlin Swift \n"
     ]
    }
   ],
   "source": [
    "def profile(name, age, *language):\n",
    "    print(\"이름 : {0}\\t나이 : {1}\\t\".format(name,age), end=\"\")\n",
    "    for lang in language:\n",
    "        print(lang, end=\" \")\n",
    "    print()\n",
    "profile(\"서성배\",24,\"Python\",\"Java\",\"C\",\"C++\",\"javaScript\")\n",
    "profile(\"서성배\",24,\"Kotlin\",\"Swift\")"
   ]
  },
  {
   "cell_type": "code",
   "execution_count": 21,
   "id": "69e68bd8",
   "metadata": {},
   "outputs": [
    {
     "name": "stdout",
     "output_type": "stream",
     "text": [
      "키 175cm 남자의 표준 체중은 67.38kg 입니다.\n"
     ]
    }
   ],
   "source": [
    "def std_weight(height,gender):\n",
    "    height1=height/100\n",
    "    if gender==\"남자\":\n",
    "        weight=height1*height1*22\n",
    "        print(\"키 %dcm %s의 표준 체중은 %.2fkg 입니다.\"%(height,gender,weight))\n",
    "    else:\n",
    "        weight=height1*height1*21\n",
    "        print(\"키 %dcm %s의 표준 체중은 %.2fkg 입니다.\"%(height,gender,weight))\n",
    "std_weight(175,\"남자\")\n",
    "\n",
    "print(f\"키 {height*100}cm {gender}의 표준 체중은 {round(height*height*21,2)}입니다\")\n",
    "# f string은 {}안에 변수를 선언"
   ]
  },
  {
   "cell_type": "code",
   "execution_count": 39,
   "id": "a163659c",
   "metadata": {},
   "outputs": [
    {
     "name": "stdout",
     "output_type": "stream",
     "text": [
      "120\n"
     ]
    }
   ],
   "source": [
    "def n_factorial(n):  #일반\n",
    "    sum=1\n",
    "    for i in range(1,n+1):  #for문 돌릴때 range 사용\n",
    "        sum=sum*i\n",
    "    print(sum)\n",
    "        \n",
    "n_factorial(5)\n",
    "\n"
   ]
  },
  {
   "cell_type": "code",
   "execution_count": 41,
   "id": "9e4a0987",
   "metadata": {},
   "outputs": [
    {
     "data": {
      "text/plain": [
       "120"
      ]
     },
     "execution_count": 41,
     "metadata": {},
     "output_type": "execute_result"
    }
   ],
   "source": [
    "def n_factorial2(n):  #재귀사용\n",
    "    if n==1:\n",
    "        return 1\n",
    "    else:\n",
    "        return n*n_factorial2(n-1)\n",
    "n_factorial2(5)"
   ]
  },
  {
   "cell_type": "code",
   "execution_count": 44,
   "id": "aa2a1c44",
   "metadata": {},
   "outputs": [
    {
     "name": "stdout",
     "output_type": "stream",
     "text": [
      "6\n"
     ]
    }
   ],
   "source": [
    "def gcd(A,B):\n",
    "    while True:\n",
    "        if A%B==0:\n",
    "            break\n",
    "        else:\n",
    "            R=A%B\n",
    "            A=B\n",
    "            B=R\n",
    "    print(B)\n",
    "    \n",
    "gcd(192,162)"
   ]
  },
  {
   "cell_type": "markdown",
   "id": "fffea237",
   "metadata": {},
   "source": [
    "#다른언어\n",
    "temp=b\n",
    "b=a\n",
    "a=temp\n",
    "#파이썬\n",
    "a,b=b,a이렇게 튜플로 값을 스왑가능"
   ]
  },
  {
   "cell_type": "code",
   "execution_count": 45,
   "id": "aad00e94",
   "metadata": {},
   "outputs": [
    {
     "name": "stdout",
     "output_type": "stream",
     "text": [
      "1\n",
      "1\n",
      "2\n",
      "3\n"
     ]
    }
   ],
   "source": [
    "a=[1,2,3]\n",
    "def f(a):\n",
    "    while a:\n",
    "        yield a.pop()\n",
    "def fib_generator():\n",
    "    a,b=0,1\n",
    "    while True:\n",
    "        yield b\n",
    "        a,b=b,a+b\n",
    "fib = fib_generator()\n",
    "print(next(fib))\n",
    "print(next(fib))\n",
    "print(next(fib))\n",
    "print(next(fib))"
   ]
  },
  {
   "cell_type": "code",
   "execution_count": 52,
   "id": "d9f606f3",
   "metadata": {},
   "outputs": [
    {
     "name": "stdout",
     "output_type": "stream",
     "text": [
      "0 1 1 2 3 5 8 13 21 34 55 "
     ]
    }
   ],
   "source": [
    "def fib_seq(n):\n",
    "    a=0;b=1\n",
    "    print(a,end=\" \")\n",
    "    for i in range(n):\n",
    "        a,b=b,a+b\n",
    "        print(a,end=\" \")\n",
    "\n",
    "fib_seq(10)\n",
    "   "
   ]
  },
  {
   "cell_type": "code",
   "execution_count": 64,
   "id": "b3d55fd3",
   "metadata": {},
   "outputs": [
    {
     "data": {
      "text/plain": [
       "55"
      ]
     },
     "execution_count": 64,
     "metadata": {},
     "output_type": "execute_result"
    }
   ],
   "source": [
    "def fib_seq_iter(n):\n",
    "    if n<2:\n",
    "        return n\n",
    "    a,b=0,1\n",
    "    for i in range(n):\n",
    "        a,b=b,a+b\n",
    "    return a\n",
    "fib_seq_iter(10)"
   ]
  },
  {
   "cell_type": "code",
   "execution_count": 67,
   "id": "58df2838",
   "metadata": {},
   "outputs": [
    {
     "data": {
      "text/plain": [
       "55"
      ]
     },
     "execution_count": 67,
     "metadata": {},
     "output_type": "execute_result"
    }
   ],
   "source": [
    "def fib_seq_self(n):\n",
    "    if n<2:\n",
    "        return n\n",
    "    return fib_seq_self(n-1)+fib_seq_self(n-2)\n",
    "\n",
    "fib_seq_self(10)"
   ]
  },
  {
   "cell_type": "code",
   "execution_count": 70,
   "id": "89b1c86a",
   "metadata": {},
   "outputs": [
    {
     "name": "stdout",
     "output_type": "stream",
     "text": [
      "f(99) f(98) f(97) f(96) f(95) f(94) f(93) f(92) f(91) f(90) f(89) f(88) f(87) f(86) f(85) f(84) f(83) f(82) f(81) f(80) f(79) f(78) f(77) f(76) f(75) f(74) f(73) f(72) f(71) f(70) f(69) f(68) f(67) f(66) f(65) f(64) f(63) f(62) f(61) f(60) f(59) f(58) f(57) f(56) f(55) f(54) f(53) f(52) f(51) f(50) f(49) f(48) f(47) f(46) f(45) f(44) f(43) f(42) f(41) f(40) f(39) f(38) f(37) f(36) f(35) f(34) f(33) f(32) f(31) f(30) f(29) f(28) f(27) f(26) f(25) f(24) f(23) f(22) f(21) f(20) f(19) f(18) f(17) f(16) f(15) f(14) f(13) f(12) f(11) f(10) f(9) f(8) f(7) f(6) f(5) f(4) f(3) f(2) f(1) f(2) f(3) f(4) f(5) f(6) f(7) f(8) f(9) f(10) f(11) f(12) f(13) f(14) f(15) f(16) f(17) f(18) f(19) f(20) f(21) f(22) f(23) f(24) f(25) f(26) f(27) f(28) f(29) f(30) f(31) f(32) f(33) f(34) f(35) f(36) f(37) f(38) f(39) f(40) f(41) f(42) f(43) f(44) f(45) f(46) f(47) f(48) f(49) f(50) f(51) f(52) f(53) f(54) f(55) f(56) f(57) f(58) f(59) f(60) f(61) f(62) f(63) f(64) f(65) f(66) f(67) f(68) f(69) f(70) f(71) f(72) f(73) f(74) f(75) f(76) f(77) f(78) f(79) f(80) f(81) f(82) f(83) f(84) f(85) f(86) f(87) f(88) f(89) f(90) f(91) f(92) f(93) f(94) f(95) f(96) f(97) 218922995834555169026\n"
     ]
    }
   ],
   "source": [
    "d=[0]*100\n",
    "\n",
    "def fibo(x):\n",
    "    print('f('+str(x)+')',end=' ')\n",
    "    if x==1 or x==2:\n",
    "        return 1\n",
    "    if d[x]!=0:\n",
    "        return d[x]\n",
    "    d[x]=fibo(x-1)+fibo(x-2)\n",
    "    return d[x]\n",
    "print(fibo(99))"
   ]
  },
  {
   "cell_type": "code",
   "execution_count": 69,
   "id": "d4b42905",
   "metadata": {},
   "outputs": [
    {
     "data": {
      "text/plain": [
       "1657005713.0400836"
      ]
     },
     "execution_count": 69,
     "metadata": {},
     "output_type": "execute_result"
    }
   ],
   "source": [
    "import time\n",
    "time.time()"
   ]
  },
  {
   "cell_type": "code",
   "execution_count": null,
   "id": "206af44d",
   "metadata": {},
   "outputs": [],
   "source": []
  }
 ],
 "metadata": {
  "kernelspec": {
   "display_name": "Python 3 (ipykernel)",
   "language": "python",
   "name": "python3"
  },
  "language_info": {
   "codemirror_mode": {
    "name": "ipython",
    "version": 3
   },
   "file_extension": ".py",
   "mimetype": "text/x-python",
   "name": "python",
   "nbconvert_exporter": "python",
   "pygments_lexer": "ipython3",
   "version": "3.8.13"
  }
 },
 "nbformat": 4,
 "nbformat_minor": 5
}
